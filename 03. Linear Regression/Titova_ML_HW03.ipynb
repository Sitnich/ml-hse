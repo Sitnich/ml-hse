{
  "nbformat": 4,
  "nbformat_minor": 0,
  "metadata": {
    "kernelspec": {
      "display_name": "Python 3",
      "language": "python",
      "name": "python3"
    },
    "language_info": {
      "codemirror_mode": {
        "name": "ipython",
        "version": 3
      },
      "file_extension": ".py",
      "mimetype": "text/x-python",
      "name": "python",
      "nbconvert_exporter": "python",
      "pygments_lexer": "ipython3",
      "version": "3.7.3"
    },
    "colab": {
      "name": "hw3_task.ipynb",
      "provenance": [],
      "collapsed_sections": []
    }
  },
  "cells": [
    {
      "cell_type": "markdown",
      "metadata": {
        "id": "-GeqjUsgn4HY"
      },
      "source": [
        "# Линейная регрессия\n",
        "__Суммарное количество баллов: 10__\n",
        "\n",
        "__Решение отправлять на `ml.course.practice@gmail.com`__\n",
        "\n",
        "__Тема письма: `[HSE][MS][ML][HW03] <ФИ>`, где вместо `<ФИ>` указаны фамилия и имя__"
      ]
    },
    {
      "cell_type": "code",
      "metadata": {
        "id": "QmYMrZJGn4Hg"
      },
      "source": [
        "from sklearn.datasets import make_blobs, make_moons\n",
        "from sklearn.model_selection import train_test_split\n",
        "from sklearn.preprocessing import MinMaxScaler\n",
        "import numpy as np\n",
        "import pandas as pd\n",
        "import random\n",
        "import matplotlib.pyplot as plt\n",
        "import matplotlib\n",
        "import copy"
      ],
      "execution_count": 36,
      "outputs": []
    },
    {
      "cell_type": "code",
      "metadata": {
        "id": "l86n1A9Bn4Hj"
      },
      "source": [
        "def read_data(path=\"/content/gdrive/My Drive/boston.csv\"):\n",
        "    dataframe = np.genfromtxt(path, delimiter=\",\", skip_header=15)\n",
        "    scaler = MinMaxScaler()\n",
        "    scaler.fit(dataframe)\n",
        "    dataframe= scaler.transform(dataframe)\n",
        "\n",
        "    np.random.seed(42)\n",
        "    np.random.shuffle(dataframe)\n",
        "    X = dataframe[:, :-1]\n",
        "    y = dataframe[:, -1]\n",
        "    return X, y"
      ],
      "execution_count": 58,
      "outputs": []
    },
    {
      "cell_type": "code",
      "metadata": {
        "id": "SIDuGR68n4Hj"
      },
      "source": [
        "def generate_synthetic(size:int, dim=6, noise=0.1):\n",
        "    X = np.random.randn(size, dim)\n",
        "    w = np.random.randn(dim + 1)\n",
        "    noise = noise * np.random.randn(size)\n",
        "    y = X.dot(w[1:]) + w[0] + noise\n",
        "    return X, y"
      ],
      "execution_count": 59,
      "outputs": []
    },
    {
      "cell_type": "markdown",
      "metadata": {
        "id": "KTQrXJM3n4Hk"
      },
      "source": [
        "### Задание 1 (1 балл)\n",
        "Для начала нужно понять, какую метрику для ошибки будем использовать. В нашем случае нам подойдет стандартная метрика MSE. Также чтобы оценить качество модели нам понадобится метрика $R^2$. Реализуйте обе эти метрики."
      ]
    },
    {
      "cell_type": "code",
      "metadata": {
        "id": "MhFj_POqn4Hl"
      },
      "source": [
        "def mse(y_true:np.ndarray, y_predicted:np.ndarray):\n",
        "    MSE = np.square(y_true - y_predicted).mean()\n",
        "    return MSE\n",
        "\n",
        "def r2(y_true:np.ndarray, y_predicted:np.ndarray):\n",
        "    SSres=np.square(y_true - y_predicted).mean()\n",
        "    mean_true=y_true.mean()\n",
        "    SStot=np.square(y_true - mean_true).mean()\n",
        "    return 1 - (SSres)/(SStot)"
      ],
      "execution_count": 60,
      "outputs": []
    },
    {
      "cell_type": "markdown",
      "metadata": {
        "id": "wl6-3k-wn4Hm"
      },
      "source": [
        "### Задание 2 (3 балла)\n",
        "Теперь реализуем линейную регрессию при помощи явного решения задачи минимизации. \n",
        "\n",
        "#### Методы\n",
        "`fit(X, y)` - решает задачу минимизации $\\arg\\min_{w, b}\\sum ((w\\cdot x + b) - y)^2$. \n",
        "\n",
        "`predict(X)` - строит предсказание `y` для объектов из `X`."
      ]
    },
    {
      "cell_type": "code",
      "metadata": {
        "id": "qZ5qQ1p3n4Hn"
      },
      "source": [
        "class NormalLR:\n",
        "    def __init__(self):\n",
        "        self.w = None\n",
        "\n",
        "    def fit(self, X:np.ndarray, y:np.ndarray):\n",
        "\n",
        "        const_col=np.ones(X.shape[0]).reshape(-1,1)\n",
        "        X = np.concatenate((const_col, X), axis=1)\n",
        "        self.w = np.dot(np.linalg.inv(np.dot(X.T,X)),np.dot(X.T,y))\n",
        "        return\n",
        "    \n",
        "    def predict(self, X:np.ndarray) -> np.ndarray:\n",
        "\n",
        "        const_col=np.ones(X.shape[0]).reshape(-1,1)\n",
        "        X = np.concatenate((const_col, X), axis=1)\n",
        "        pred = np.dot(X, self.w.T)\n",
        "        return pred"
      ],
      "execution_count": 6,
      "outputs": []
    },
    {
      "cell_type": "code",
      "metadata": {
        "id": "Qg5BqJPAn4Hn"
      },
      "source": [
        "X, y = generate_synthetic(1024)\n",
        "X_train, X_test, y_train, y_test = train_test_split(X, y, train_size=0.8)"
      ],
      "execution_count": 7,
      "outputs": []
    },
    {
      "cell_type": "code",
      "metadata": {
        "id": "dyB5sun8n4Ho",
        "colab": {
          "base_uri": "https://localhost:8080/"
        },
        "outputId": "4ec02a92-1c90-49bc-9800-95ae0cb68536"
      },
      "source": [
        "regr = NormalLR()\n",
        "regr.fit(X_train, y_train)\n",
        "y_pred = regr.predict(X_test)\n",
        "print(f\"MSE: {mse(y_test, y_pred)}, R2: {r2(y_test, y_pred)}\")"
      ],
      "execution_count": 8,
      "outputs": [
        {
          "output_type": "stream",
          "name": "stdout",
          "text": [
            "MSE: 0.010726795682017091, R2: 0.9982189994416782\n"
          ]
        }
      ]
    },
    {
      "cell_type": "markdown",
      "metadata": {
        "id": "AQ9rFp-gn4Hp"
      },
      "source": [
        "### Задание 3 (2 балла)\n",
        "Теперь реализуем линейную регрессию с использованием градиентного спуска с larning rate `alpha` в течении `iterations` итераций. В задании необходимо использовать регуляризацию Лассо с коэффициентом `l`.\n",
        "\n",
        "#### Методы\n",
        "`fit(X, y)` - приближает решение задачи минимизации $\\arg\\min_{w, b}\\sum ((w\\cdot x + b) - y)^2$ при помощи градиентного спуска. \n",
        "\n",
        "\n",
        "`predict(X)` - строит предсказание `y` для объектов из `X`."
      ]
    },
    {
      "cell_type": "code",
      "metadata": {
        "id": "eYzw2-dcn4Hq"
      },
      "source": [
        "class GradientLR:\n",
        "    def __init__(self, alpha:float, iterations=10000, l=0.):\n",
        "        self.w = None\n",
        "        self.alpha= alpha\n",
        "        self.iterations=iterations\n",
        "        self.l=l\n",
        "    \n",
        "    def fit(self, X:np.ndarray, y:np.ndarray):\n",
        "        \n",
        "        const_col=np.ones(X.shape[0]).reshape(-1,1)\n",
        "        X = np.concatenate((const_col, X), axis=1)\n",
        "        self.w = np.zeros(X.shape[1])\n",
        "        size=y.shape[0]\n",
        "\n",
        "        for i in range(self.iterations):\n",
        "            lasso = self.l * np.sign(self.w)\n",
        "            err=np.dot(X , self.w) - y\n",
        "            grad = (2 / size) * np.dot(X.T, err) + lasso\n",
        "            self.w = self.w - self.alpha * grad\n",
        "\n",
        "        \n",
        "\n",
        "    def predict(self, X:np.ndarray) -> np.ndarray:\n",
        "\n",
        "        const_col=np.ones(X.shape[0]).reshape(-1,1)\n",
        "        X = np.concatenate((const_col, X), axis=1)\n",
        "        pred = np.dot(X, self.w.T)\n",
        "        return pred"
      ],
      "execution_count": 9,
      "outputs": []
    },
    {
      "cell_type": "code",
      "metadata": {
        "id": "NcfjGBREn4Hq"
      },
      "source": [
        "def build_plot(X_train, y_train, X_test, y_test):\n",
        "    xs = np.arange(0.0, 0.002, 0.00002)\n",
        "    errors = []\n",
        "    for x in xs:\n",
        "        regr = GradientLR(0.1, iterations=10000, l=x)\n",
        "        regr.fit(X_train, y_train)\n",
        "        errors.append(mse(y_test, regr.predict(X_test)))\n",
        "    plt.figure(figsize=(9, 4))\n",
        "    plt.xlim(xs[0], xs[-1])\n",
        "    plt.grid()\n",
        "    plt.plot(xs, errors)\n",
        "    plt.show()"
      ],
      "execution_count": 10,
      "outputs": []
    },
    {
      "cell_type": "code",
      "metadata": {
        "id": "ZQ8txzZdn4Hr"
      },
      "source": [
        "X, y = generate_synthetic(1024)\n",
        "X, X_val, y, y_val = train_test_split(X, y, train_size=0.9, shuffle=True)\n",
        "X_train, X_test, y_train, y_test = train_test_split(X, y, train_size=0.8, shuffle=True)"
      ],
      "execution_count": 14,
      "outputs": []
    },
    {
      "cell_type": "code",
      "metadata": {
        "id": "z7QFa1czn4Hs",
        "colab": {
          "base_uri": "https://localhost:8080/",
          "height": 265
        },
        "outputId": "a719c867-50e3-4d0d-9c84-f2a2fbee87ff"
      },
      "source": [
        "build_plot(X_train, y_train, X_val, y_val)"
      ],
      "execution_count": 15,
      "outputs": [
        {
          "output_type": "display_data",
          "data": {
            "image/png": "[encoded data removed]",
            "text/plain": [
              "<Figure size 648x288 with 1 Axes>"
            ]
          },
          "metadata": {
            "needs_background": "light"
          }
        }
      ]
    },
    {
      "cell_type": "code",
      "metadata": {
        "id": "siP8OKLRn4Ht",
        "colab": {
          "base_uri": "https://localhost:8080/"
        },
        "outputId": "b1cc9c88-45f9-427e-c7f0-4c207e3b663a"
      },
      "source": [
        "regr = GradientLR(0.1, iterations=10000)\n",
        "regr.fit(X_train, y_train)\n",
        "y_pred = regr.predict(X_test)\n",
        "print(f\"MSE: {mse(y_test, y_pred)}, R2: {r2(y_test, y_pred)}\")"
      ],
      "execution_count": 16,
      "outputs": [
        {
          "output_type": "stream",
          "name": "stdout",
          "text": [
            "MSE: 0.009923194161777832, R2: 0.9975171011926397\n"
          ]
        }
      ]
    },
    {
      "cell_type": "markdown",
      "metadata": {
        "id": "UmjSHt9rn4Ht"
      },
      "source": [
        "### Задание 4 (2 балла)\n",
        "Протесируйте оба метода на данных `boston.csv`, для градиентного спуска постройте график зависимости ошибки от коэффициента регуляризации. "
      ]
    },
    {
      "cell_type": "code",
      "metadata": {
        "colab": {
          "base_uri": "https://localhost:8080/"
        },
        "id": "BbmyQRL6MzSp",
        "outputId": "22a84b44-62ee-4280-b101-daa1d54a1fc2"
      },
      "source": [
        "from google.colab import drive\n",
        "drive.mount(\"/content/gdrive\")"
      ],
      "execution_count": 61,
      "outputs": [
        {
          "output_type": "stream",
          "name": "stdout",
          "text": [
            "Drive already mounted at /content/gdrive; to attempt to forcibly remount, call drive.mount(\"/content/gdrive\", force_remount=True).\n"
          ]
        }
      ]
    },
    {
      "cell_type": "code",
      "metadata": {
        "id": "dk2TeC7Hn4Hu"
      },
      "source": [
        "X, y = read_data()\n",
        "\n",
        "X_train, X_val, y_train, y_val = train_test_split(X, y, train_size=0.8, shuffle=False)"
      ],
      "execution_count": 62,
      "outputs": []
    },
    {
      "cell_type": "code",
      "metadata": {
        "id": "GZCb_5KVn4Hu",
        "colab": {
          "base_uri": "https://localhost:8080/"
        },
        "outputId": "230890d5-ef17-43fb-df77-c4e36d844f0b"
      },
      "source": [
        "regr = NormalLR()\n",
        "regr.fit(X_train, y_train)\n",
        "y_pred = regr.predict(X_val)\n",
        "w=regr.w\n",
        "\n",
        "print(f\"MSE: {mse(y_val, y_pred)}, R2: {r2(y_val, y_pred)}\")"
      ],
      "execution_count": 65,
      "outputs": [
        {
          "output_type": "stream",
          "name": "stdout",
          "text": [
            "MSE: 0.010995709175721938, R2: 0.6872797475661048\n"
          ]
        }
      ]
    },
    {
      "cell_type": "code",
      "metadata": {
        "id": "MtPBlBPkn4Hw",
        "colab": {
          "base_uri": "https://localhost:8080/"
        },
        "outputId": "ed9f4b63-1088-4c3a-bc5f-cd9087db6802"
      },
      "source": [
        "regr = GradientLR(0.1, iterations=10000)\n",
        "regr.fit(X_train, y_train)\n",
        "y_pred = regr.predict(X_val)\n",
        "\n",
        "print(f\"MSE: {mse(y_val, y_pred)}, R2: {r2(y_val, y_pred)}\")"
      ],
      "execution_count": 66,
      "outputs": [
        {
          "output_type": "stream",
          "name": "stdout",
          "text": [
            "MSE: 0.01099554179193606, R2: 0.6872845079957357\n"
          ]
        }
      ]
    },
    {
      "cell_type": "code",
      "metadata": {
        "id": "UMkUfayxn4Hv",
        "colab": {
          "base_uri": "https://localhost:8080/",
          "height": 265
        },
        "outputId": "a5f66207-0d93-40f4-a117-7ba3a6f243f4"
      },
      "source": [
        "build_plot(X_train, y_train, X_val, y_val)"
      ],
      "execution_count": 44,
      "outputs": [
        {
          "output_type": "display_data",
          "data": {
            "image/png": "[encoded data removed]",
            "text/plain": [
              "<Figure size 648x288 with 1 Axes>"
            ]
          },
          "metadata": {
            "needs_background": "light"
          }
        }
      ]
    },
    {
      "cell_type": "markdown",
      "metadata": {
        "id": "d63Ei1yEn4Hw"
      },
      "source": [
        "### Задание 5 (2 балла)\n",
        "Проинтерпритируйте полученные результаты. Опишите влияние каждого признака на результат предсказания."
      ]
    },
    {
      "cell_type": "code",
      "metadata": {
        "id": "19Ci6i5Wn4Hw",
        "colab": {
          "base_uri": "https://localhost:8080/"
        },
        "outputId": "6b791baa-0715-485b-c53a-fdb66bcab0cf"
      },
      "source": [
        "with open(\"/content/gdrive/My Drive/boston.csv\") as myfile:\n",
        "    head = [next(myfile) for x in range(14)]\n",
        "for i in range(13):\n",
        "    print('{} : {}'.format(w[i+1],head[i]),end='')\n"
      ],
      "execution_count": 67,
      "outputs": [
        {
          "output_type": "stream",
          "name": "stdout",
          "text": [
            "-0.20512442609093584 : #  1. crim     per capita crime rate by town\n",
            "0.11614932673079154 : #  2. zn       proportion of residential land zoned for lots over 25,000 sq.ft.\n",
            "-0.012018117065459653 : #  3. indus    proportion of non-retail business acres per town\n",
            "0.05162839253846152 : #  4. chas     Charles River dummy variable (= 1 if tract bounds river; 0 otherwise)\n",
            "-0.18632881744496188 : #  5. nox      nitric oxides concentration (parts per 10 million)\n",
            "0.417982896138712 : #  6. rm       average number of rooms per dwelling\n",
            "0.022744846682770437 : #  7. age      proportion of owner-occupied units built prior to 1940\n",
            "-0.3752453669742176 : #  8. dis      weighted distances to five Boston employment centres\n",
            "0.1674753562126392 : #  9. rad      index of accessibility to radial highways\n",
            "-0.16856965131948934 : # 10. tax      full-value property-tax rate per $10,000\n",
            "-0.1905947389492939 : # 11. ptratio  pupil-teacher ratio by town\n",
            "0.07643774327227426 : # 12. b        1000(Bk - 0.63)^2 where Bk is the proportion of blacks by town\n",
            "-0.44144976976759587 : # 13. lstat    % lower status of the population\n"
          ]
        }
      ]
    },
    {
      "cell_type": "markdown",
      "metadata": {
        "id": "1H3-ilA3zZVJ"
      },
      "source": [
        "Проанализируем коэффициенты при каждом признаке, и поймем как они влияют на стоимость квартиры (извиняюсь если неправильно перевела/поняла некоторые из фичей):  \n",
        "\n",
        "1.   Уровень преступности влияет на стоимость квартиры отрицательно: в достаточной мере, чтобы это было заметно\n",
        "2.   Если доля земли отданная под жилую застройку велика, то квартира стоит меньше. Такая отрицательная корреляция выражена не очень сильно\n",
        "3.   Почти нет зависимости с уровнем не-розничной торговли\n",
        "4.   Маленькая положительная зависимость с наличием реки неподалеку от квартиры\n",
        "5.   Заметная отрицательная зависимость с концентрацией оксида азота - мало кто захочет дышать плохим воздухом\n",
        "6.   Большая положительная зависимость стоимости жилья с количеством комнат в нем - кажется очень логичным\n",
        "7.   Большой возраст квартир почти не влияет на стоимость (и все же корреляция положительна)\n",
        "8.   Логично, что чем больше среднее расстояние до бостонских рабочих центров, тем меньше стоимость жилья\n",
        "9.   Доступность магистралей увличивает стоимость квартиры\n",
        "10.  Что то с налогами, видимо никто не хочет их платить поэтому стоимость жилья коррелирует с этим показателем отрицательно\n",
        "11.  Примечательная отрицательная корреляция с количеством учеников на учителя: видимо квартиры продаются с расчетом на вдумчивых родителей\n",
        "12.  Почти нет корреляции с долей чернокожего населения\n",
        "13.  А вот с долей населения с низким статусом отрицательная корреляция очень заметна (наибольший по модулю коэффициент среди остальных!)\n",
        "\n",
        "\n",
        "Почти все зависимости выглядят логично и поддаются объяснению. От некоторых признаков я ожидала другого влияния, но все из них в модели имеют маленькие (по модулю) коэффициенты и видимо в настоящую модель не привносят значимой информации.\n"
      ]
    }
  ]
}