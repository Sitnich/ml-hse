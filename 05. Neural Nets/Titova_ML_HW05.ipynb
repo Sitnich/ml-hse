{
  "cells": [
    {
      "cell_type": "markdown",
      "metadata": {
        "id": "9Qp0H_zUQuu_"
      },
      "source": [
        "# Нейронные сети\n",
        "__Суммарное количество баллов: 10__\n",
        "\n",
        "__Решение отправлять на `ml.course.practice@gmail.com`__\n",
        "\n",
        "__Тема письма: `[HSE][ML][MS][HW05] <ФИ>`, где вместо `<ФИ>` указаны фамилия и имя__\n",
        "\n",
        "Для начала вам предстоит реализовать свой собственный backpropagation и протестировать его на реальных данных, а затем научиться обучать нейронные сети при помощи библиотеки `PyTorch` и использовать это умение для классификации классического набора данных CIFAR10."
      ]
    },
    {
      "cell_type": "code",
      "execution_count": null,
      "metadata": {
        "id": "22ezVRf3QuvA"
      },
      "outputs": [],
      "source": [
        "import numpy as np\n",
        "import copy\n",
        "\n",
        "from sklearn.datasets import make_blobs, make_moons\n",
        "from typing import List, NoReturn\n"
      ]
    },
    {
      "cell_type": "markdown",
      "metadata": {
        "id": "4qfDPH_LQuvF"
      },
      "source": [
        "### Задание 1 (3 балла)\n",
        "Нейронные сети состоят из слоев, поэтому для начала понадобится реализовать их. Пока нам понадобятся только три:\n",
        "\n",
        "`Linear` - полносвязный слой, в котором `y = Wx + b`, где `y` - выход, `x` - вход, `W` - матрица весов, а `b` - смещение. \n",
        "\n",
        "`ReLU` - слой, соответствующий функции активации `y = max(0, x)`.\n",
        "\n",
        "`Softmax` - слой, соответствующий функции активации [softmax](https://ru.wikipedia.org/wiki/Softmax)\n",
        "\n",
        "\n",
        "#### Методы\n",
        "`forward(X)` - возвращает предсказанные для `X`. `X` может быть как вектором, так и батчем\n",
        "\n",
        "`backward(d)` - считает градиент при помощи обратного распространения ошибки. Возвращает новое значение `d`\n",
        "\n",
        "`update(alpha)` - обновляет веса (если необходимо) с заданой скоростью обучения"
      ]
    },
    {
      "cell_type": "code",
      "execution_count": null,
      "metadata": {
        "id": "RWFLlHqaYbgC"
      },
      "outputs": [],
      "source": [
        "class Module:\n",
        "    \"\"\"\n",
        "    Абстрактный класс. Его менять не нужно.\n",
        "    \"\"\"\n",
        "    def forward(self, x):\n",
        "        raise NotImplementedError()\n",
        "    \n",
        "    def backward(self, d):\n",
        "        raise NotImplementedError()\n",
        "        \n",
        "    def update(self, alpha):\n",
        "        pass"
      ]
    },
    {
      "cell_type": "code",
      "execution_count": null,
      "metadata": {
        "id": "aYS2gE4PYepZ"
      },
      "outputs": [],
      "source": [
        "class Linear(Module):\n",
        "    \"\"\"\n",
        "    Линейный полносвязный слой.\n",
        "    \"\"\"\n",
        "    def __init__(self, in_features: int, out_features: int):\n",
        "\n",
        "        self.in_features = in_features\n",
        "        self.out_features = out_features\n",
        "        self.W = np.random.random((in_features, out_features))\n",
        "        self.b = np.random.random(out_features)\n",
        "    \n",
        "    def forward(self, x: np.ndarray) -> np.ndarray:\n",
        "\n",
        "        self.x = x       \n",
        "        return self.x @ self.W + self.b\n",
        "    \n",
        "    def backward(self, d: np.ndarray) -> np.ndarray:\n",
        "\n",
        "        self.der_x = d @ self.W.T\n",
        "        self.der_W = self.x.T @ d\n",
        "        if d.ndim >1:\n",
        "            self.der_b = d.sum(axis=0)\n",
        "        elif d.ndim == 1:\n",
        "            self.der_b = d\n",
        "        return self.der_x\n",
        "        \n",
        "    def update(self, alpha: float) -> NoReturn:\n",
        "\n",
        "        if self.x.ndim >1:\n",
        "            n = self.x.shape[0]\n",
        "        else:\n",
        "            n = 1\n",
        "      \n",
        "\n",
        "        self.W -= alpha/n * self.der_W\n",
        "        self.b -= alpha/n * self.der_b"
      ]
    },
    {
      "cell_type": "code",
      "execution_count": null,
      "metadata": {
        "id": "94hkbnD1QuvG"
      },
      "outputs": [],
      "source": [
        "class ReLU(Module):\n",
        "    \"\"\"\n",
        "    Слой, соответствующий функции активации ReLU.\n",
        "    \"\"\"\n",
        "    def __init__(self):\n",
        "        pass\n",
        "    \n",
        "    def forward(self, x: np.ndarray) -> np.ndarray:\n",
        "        \n",
        "        self.x = x\n",
        "        y = np.maximum(0, self.x)\n",
        "        return y\n",
        "        \n",
        "    def backward(self, d) -> np.ndarray:\n",
        "\n",
        "        self.der = np.maximum(0, np.sign(self.x))\n",
        "        self.der = d * self.der\n",
        "        return self.der\n",
        "        \n",
        "        \n",
        "class Softmax(Module):\n",
        "    \"\"\"\n",
        "    Слой, соответствующий функции активации Softmax.\n",
        "    \"\"\"\n",
        "    def __init__(self):\n",
        "        pass\n",
        "        \n",
        "    def forward(self, x: np.ndarray) -> np.ndarray:\n",
        "        self.y = np.zeros_like(x)\n",
        "\n",
        "        if x.ndim == 1:\n",
        "            numer = np.exp(x - np.max(x))\n",
        "            denom = np.sum(numer)\n",
        "            self.y = numer / denom\n",
        "        else:\n",
        "            for i in range(x.shape[0]):\n",
        "                numer = np.exp(x[i] - np.max(x[i]))\n",
        "                denom = np.sum(numer)\n",
        "                self.y[i] = numer / denom\n",
        "        self.X = x     \n",
        "        return self.y\n",
        "\n",
        "        \n",
        "    def backward(self, d) -> np.ndarray:\n",
        "\n",
        "        return self.y - d"
      ]
    },
    {
      "cell_type": "markdown",
      "metadata": {
        "id": "Rb_ip_h8QuvJ"
      },
      "source": [
        "### Задание 2 (2 балла)\n",
        "Теперь сделаем саму нейронную сеть.\n",
        "\n",
        "#### Методы\n",
        "`fit(X, y)` - обучает нейронную сеть заданное число эпох. В каждой эпохе необходимо использовать [cross-entropy loss](https://ml-cheatsheet.readthedocs.io/en/latest/loss_functions.html#cross-entropy) для обучения, а так же производить обновления не по одному элементу, а используя батчи.\n",
        "\n",
        "`predict_proba(X)` - предсказывает вероятности классов для элементов `X`\n",
        "\n",
        "#### Параметры конструктора\n",
        "`modules` - список, состоящий из ранее реализованных модулей и описывающий слои нейронной сети. В конец необходимо добавить `Softmax`\n",
        "\n",
        "`epochs` - количество эпох обучения\n",
        "\n",
        "`alpha` - скорость обучения"
      ]
    },
    {
      "cell_type": "code",
      "execution_count": null,
      "metadata": {
        "id": "Q_JFCizKQuvK"
      },
      "outputs": [],
      "source": [
        " class MLPClassifier:\n",
        "    def __init__(self, modules: List[Module], epochs: int = 40, alpha: float = 0.01): \n",
        "\n",
        "        self.modules = modules\n",
        "        self.modules.append(Softmax())\n",
        "        self.epochs = epochs\n",
        "        self.alpha = alpha\n",
        "        \n",
        "            \n",
        "    def fit(self, X: np.ndarray, y: np.ndarray, batch_size=32) -> NoReturn:\n",
        "      \n",
        "        with_labels = np.column_stack((X, y))\n",
        "        batches_num= int(np.ceil(len(with_labels)/batch_size))\n",
        "\n",
        "        for j in range(self.epochs):\n",
        "            np.random.shuffle(with_labels)\n",
        "            batches = [with_labels[i* batch_size:(i+1)* batch_size] for i in range(batches_num)]\n",
        "            \n",
        "            for sample in batches:               \n",
        "                batch, y_true = sample[:,:-1], sample[:,-1]\n",
        "\n",
        "\n",
        "\n",
        "                dummy = np.zeros((int(batch.shape[0]), len(np.unique(y))))\n",
        "                for i in range(int(batch.shape[0])):\n",
        "                    dummy[i][int(y_true[i])] = 1\n",
        "\n",
        "                probs = batch\n",
        "                for layer in self.modules:\n",
        "                    probs = layer.forward(probs)               \n",
        "                y_pred = np.argmax(probs, axis=1)\n",
        "\n",
        "                der = self.modules[-1].backward(dummy)\n",
        "                for layer in self.modules[-2::-1]:\n",
        "                    der = layer.backward(der)\n",
        "                    layer.update(self.alpha)\n",
        "\n",
        "             \n",
        "            \n",
        "    def predict_proba(self, X: np.ndarray) -> np.ndarray:\n",
        "        probs = X\n",
        "        for layer in self.modules:\n",
        "            probs = layer.forward(probs)\n",
        "        return probs\n",
        "    \n",
        "    \n",
        "    def predict(self, X) -> np.ndarray:\n",
        "        classes = self.predict_proba(X)\n",
        "        return np.argmax(classes, axis=1)"
      ]
    },
    {
      "cell_type": "code",
      "execution_count": null,
      "metadata": {
        "id": "onDymYQXQuvN"
      },
      "outputs": [],
      "source": [
        "p = MLPClassifier([\n",
        "    Linear(4, 64),\n",
        "    ReLU(),\n",
        "    Linear(64, 64),\n",
        "    ReLU(),\n",
        "    Linear(64, 2)\n",
        "])\n",
        "\n",
        "X = np.random.randn(50, 4)\n",
        "y = [(0 if x[0] > x[2]**2 or x[3]**3 > 0.5 else 1) for x in X]\n",
        "p.fit(X, y)"
      ]
    },
    {
      "cell_type": "markdown",
      "metadata": {
        "id": "3C1EIsDqQuvQ"
      },
      "source": [
        "### Задание 3 (2 балла)\n",
        "Протестируем наше решение на синтетических данных. Необходимо подобрать гиперпараметры, при которых качество полученных классификаторов будет достаточным.\n",
        "\n",
        "#### Оценка\n",
        "Accuracy на первом датасете больше 0.85 - +1 балл\n",
        "\n",
        "Accuracy на втором датасете больше 0.85 - +1 балл"
      ]
    },
    {
      "cell_type": "code",
      "execution_count": null,
      "metadata": {
        "colab": {
          "base_uri": "https://localhost:8080/"
        },
        "id": "d5UAgXTcQuvQ",
        "outputId": "d9e4b01d-8428-4578-ba3b-557fd3416a10"
      },
      "outputs": [
        {
          "name": "stdout",
          "output_type": "stream",
          "text": [
            "Accuracy 0.9575\n"
          ]
        }
      ],
      "source": [
        "X, y = make_moons(400, noise=0.075)\n",
        "X_test, y_test = make_moons(400, noise=0.075)\n",
        "\n",
        "best_acc = 0\n",
        "for _ in range(25):\n",
        "    p = MLPClassifier([\n",
        "    Linear(2, 64),\n",
        "    ReLU(),\n",
        "    Linear(64, 64),\n",
        "    ReLU(),\n",
        "    Linear(64, 2)\n",
        "])\n",
        "\n",
        "    p.fit(X, y)\n",
        "    best_acc = max(np.mean(p.predict(X_test) == y_test), best_acc)\n",
        "print(\"Accuracy\", best_acc)"
      ]
    },
    {
      "cell_type": "code",
      "execution_count": null,
      "metadata": {
        "colab": {
          "base_uri": "https://localhost:8080/"
        },
        "id": "MMDJM4qFQuvT",
        "outputId": "0432961e-42f5-42cc-f980-3c68a7ee5d0d"
      },
      "outputs": [
        {
          "name": "stdout",
          "output_type": "stream",
          "text": [
            "Accuracy 0.9525\n"
          ]
        }
      ],
      "source": [
        "X, y = make_blobs(400, 2, centers=[[0, 0], [2.5, 2.5], [-2.5, 3]])\n",
        "X_test, y_test = make_blobs(400, 2, centers=[[0, 0], [2.5, 2.5], [-2.5, 3]])\n",
        "best_acc = 0\n",
        "for _ in range(25):\n",
        "    p = MLPClassifier([\n",
        "    Linear(2, 64),\n",
        "    ReLU(),\n",
        "    Linear(64, 64),\n",
        "    ReLU(),\n",
        "    Linear(64, 3)\n",
        "])\n",
        "\n",
        "    p.fit(X, y)\n",
        "    best_acc = max(np.mean(p.predict(X_test) == y_test), best_acc)\n",
        "print(\"Accuracy\", best_acc)"
      ]
    },
    {
      "cell_type": "markdown",
      "metadata": {
        "id": "nPbVTFnMQuvW"
      },
      "source": [
        "## PyTorch\n",
        "\n",
        "Для выполнения следующего задания понадобится PyTorch. [Инструкция по установке](https://pytorch.org/get-started/locally/)\n",
        "\n",
        "Если у вас нет GPU, то можно использовать [Google Colab](https://colab.research.google.com/)"
      ]
    },
    {
      "cell_type": "code",
      "execution_count": null,
      "metadata": {
        "id": "tV0mJLu-QuvX"
      },
      "outputs": [],
      "source": [
        "from torchvision import datasets, transforms\n",
        "from torch.utils.data import DataLoader\n",
        "import torch\n",
        "from tqdm import tqdm\n",
        "from torch import nn\n",
        "import torch.nn.functional as F\n",
        "import matplotlib.pyplot as plt"
      ]
    },
    {
      "cell_type": "code",
      "execution_count": null,
      "metadata": {
        "colab": {
          "base_uri": "https://localhost:8080/",
          "height": 101,
          "referenced_widgets": [
            "f33b525fce5d4d8d9307446d64fb282b",
            "40fe1b17c61c4cbcbe4fb9604f8e860d",
            "1483357a766e4efda0318de1d14d8592",
            "d78a8f678ef3400c9bb92fca7b629f8a",
            "f85a87f2a05f4deb8b5f783c05d105d5",
            "198fb1fb26854e6295f0a7eb2cd24986",
            "25f4f0a7b5d4408c87470720614e37ba",
            "3b6b61646f56465697c1ea1d64dddda0",
            "21b9dc5982d44ecabc1ddeefb152c6a9",
            "6b180f460c40463a8832d5e9d14b4427",
            "8bc2aee32cbe4644a0ebeed641e76329"
          ]
        },
        "id": "VUC_QqpAQuva",
        "outputId": "4ad9311d-c52e-4530-a62a-936fe0fed3b9"
      },
      "outputs": [
        {
          "name": "stdout",
          "output_type": "stream",
          "text": [
            "Downloading https://www.cs.toronto.edu/~kriz/cifar-10-python.tar.gz to datasets/cifar10/cifar-10-python.tar.gz\n"
          ]
        },
        {
          "data": {
            "application/vnd.jupyter.widget-view+json": {
              "model_id": "f33b525fce5d4d8d9307446d64fb282b",
              "version_major": 2,
              "version_minor": 0
            },
            "text/plain": [
              "  0%|          | 0/170498071 [00:00<?, ?it/s]"
            ]
          },
          "metadata": {},
          "output_type": "display_data"
        },
        {
          "name": "stdout",
          "output_type": "stream",
          "text": [
            "Extracting datasets/cifar10/cifar-10-python.tar.gz to datasets/cifar10\n",
            "Files already downloaded and verified\n"
          ]
        }
      ],
      "source": [
        "device = torch.device(\"cuda\" if torch.cuda.is_available() else \"cpu\")\n",
        "\n",
        "t = transforms.ToTensor()\n",
        "\n",
        "cifar_train = datasets.CIFAR10(\"datasets/cifar10\", download=True, train=True, transform=t)\n",
        "train_loader = DataLoader(cifar_train, batch_size=1024, shuffle=True, pin_memory=torch.cuda.is_available())\n",
        "cifar_test = datasets.CIFAR10(\"datasets/cifar10\", download=True, train=False, transform=t)\n",
        "test_loader = DataLoader(cifar_test, batch_size=1024, shuffle=False, pin_memory=torch.cuda.is_available())"
      ]
    },
    {
      "cell_type": "markdown",
      "metadata": {
        "id": "rGmpjcFfQuvd"
      },
      "source": [
        "### Задание 4 (3 балла)\n",
        "А теперь поработам с настоящими нейронными сетями и настоящими данными. Необходимо реализовать сверточную нейронную сеть, которая будет классифицировать изображения из датасета CIFAR10. Имплементируйте класс `Model` и функцию `calculate_loss`. \n",
        "\n",
        "Обратите внимание, что `Model` должна считать в конце `softmax`, т.к. мы решаем задачу классификации. Соответствеено, функция `calculate_loss` считает cross-entropy.\n",
        "\n",
        "Для успешного выполнения задания необходимо, чтобы `accuracy`, `mean precision` и `mean recall` были больше 0.5\n",
        "\n",
        "__Можно пользоваться всем содержимым библиотеки PyTorch.__"
      ]
    },
    {
      "cell_type": "code",
      "execution_count": null,
      "metadata": {
        "id": "5sRmTKwKQuve"
      },
      "outputs": [],
      "source": [
        "class Model(nn.Module):\n",
        "    def __init__(self):\n",
        "        super().__init__()\n",
        "        self.conv1 = nn.Conv2d(3,16, 3, padding=1)\n",
        "        self.conv2 = nn.Conv2d(16, 8, 3, padding=1)\n",
        "        self.fc1 = nn.Linear(8*8*8, 32)\n",
        "        self.fc2 = nn.Linear(32,10)\n",
        "    \n",
        "    def forward(self, x):\n",
        "        out = F.max_pool2d(torch.tanh(self.conv1(x)), 2)\n",
        "        out = F.max_pool2d(torch.tanh(self.conv2(out)), 2)\n",
        "        out = out.view(-1, 8 * 8 * 8)\n",
        "        out = torch.tanh(self.fc1(out))\n",
        "        out = self.fc2(out)\n",
        "        return out\n",
        "        \n",
        "def calculate_loss(X: torch.Tensor, y: torch.Tensor, model: Model):\n",
        "    y_new = model(X)\n",
        "    return F.cross_entropy(y_new, y)"
      ]
    },
    {
      "cell_type": "markdown",
      "metadata": {
        "id": "JAsLmkUqQuvh"
      },
      "source": [
        "Теперь обучим нашу модель. Для этого используем ранее созданные batch loader'ы."
      ]
    },
    {
      "cell_type": "code",
      "execution_count": null,
      "metadata": {
        "id": "k5G8iMCeQuvh"
      },
      "outputs": [],
      "source": [
        "def train(model, epochs=100):\n",
        "    optimizer = torch.optim.Adam(model.parameters())\n",
        "    train_losses = []\n",
        "    test_losses = []\n",
        "    for i in range(epochs):\n",
        "        #Train\n",
        "        loss_mean = 0\n",
        "        elements = 0\n",
        "        for X, y in iter(train_loader):\n",
        "            X = X.to(device)\n",
        "            y = y.to(device)\n",
        "            loss = calculate_loss(X, y, model)\n",
        "            optimizer.zero_grad()\n",
        "            loss.backward()\n",
        "            optimizer.step()\n",
        "            loss_mean += loss.item() * len(X)\n",
        "            elements += len(X)\n",
        "        train_losses.append(loss_mean / elements)\n",
        "        #Test\n",
        "        loss_mean = 0 \n",
        "        elements = 0\n",
        "        for X, y in iter(test_loader):\n",
        "            X = X.to(device)\n",
        "            y = y.to(device)\n",
        "            loss = calculate_loss(X, y, model)\n",
        "            loss_mean += loss.item() * len(X)\n",
        "            elements += len(X)\n",
        "        test_losses.append(loss_mean / elements)\n",
        "        print(\"Epoch\", i, \"| Train loss\", train_losses[-1], \"| Test loss\", test_losses[-1])\n",
        "    return train_losses, test_losses"
      ]
    },
    {
      "cell_type": "code",
      "execution_count": null,
      "metadata": {
        "colab": {
          "background_save": true,
          "base_uri": "https://localhost:8080/"
        },
        "id": "vmD9eWJOQuvl",
        "scrolled": true,
        "outputId": "6aee9314-1898-44c6-bc04-78e941fc4cd7"
      },
      "outputs": [
        {
          "name": "stdout",
          "output_type": "stream",
          "text": [
            "Epoch 0 | Train loss 2.140579621810913 | Test loss 1.9315820199966431\n",
            "Epoch 1 | Train loss 1.833824192276001 | Test loss 1.7264047985076905\n",
            "Epoch 2 | Train loss 1.6782695804595946 | Test loss 1.6339229160308837\n",
            "Epoch 3 | Train loss 1.596324924659729 | Test loss 1.5611308473587036\n",
            "Epoch 4 | Train loss 1.5428171305084228 | Test loss 1.5275204820632935\n",
            "Epoch 5 | Train loss 1.5056361962509155 | Test loss 1.489925717163086\n",
            "Epoch 6 | Train loss 1.4726164414215088 | Test loss 1.4631167400360108\n",
            "Epoch 7 | Train loss 1.4389764136505128 | Test loss 1.4288948017120362\n",
            "Epoch 8 | Train loss 1.405932275428772 | Test loss 1.3940167852401733\n",
            "Epoch 9 | Train loss 1.3694819753265381 | Test loss 1.363820463180542\n",
            "Epoch 10 | Train loss 1.335168171005249 | Test loss 1.3410392478942872\n",
            "Epoch 11 | Train loss 1.3079902465057374 | Test loss 1.3240881557464599\n",
            "Epoch 12 | Train loss 1.2874009035491942 | Test loss 1.2972675033569336\n",
            "Epoch 13 | Train loss 1.2688093577957154 | Test loss 1.2928006191253663\n",
            "Epoch 14 | Train loss 1.2497217728805543 | Test loss 1.2839352426528932\n",
            "Epoch 15 | Train loss 1.2323837943649292 | Test loss 1.261508053779602\n",
            "Epoch 16 | Train loss 1.2130646775054932 | Test loss 1.2431956607818604\n",
            "Epoch 17 | Train loss 1.2005785934448243 | Test loss 1.2410860860824584\n",
            "Epoch 18 | Train loss 1.1854410478210449 | Test loss 1.230372610092163\n",
            "Epoch 19 | Train loss 1.1745725733184815 | Test loss 1.2145746908187867\n",
            "Epoch 20 | Train loss 1.1595910409927368 | Test loss 1.2019367391586304\n",
            "Epoch 21 | Train loss 1.147393105735779 | Test loss 1.1946631229400635\n",
            "Epoch 22 | Train loss 1.1378702130889893 | Test loss 1.1967744171142578\n",
            "Epoch 23 | Train loss 1.1273252207183837 | Test loss 1.1840120513916015\n",
            "Epoch 24 | Train loss 1.118663748435974 | Test loss 1.174704287338257\n",
            "Epoch 25 | Train loss 1.111604786758423 | Test loss 1.169253336906433\n",
            "Epoch 26 | Train loss 1.0982946701431275 | Test loss 1.164571702003479\n",
            "Epoch 27 | Train loss 1.0910186150360108 | Test loss 1.1544563764572144\n",
            "Epoch 28 | Train loss 1.0805845724105836 | Test loss 1.1564081995010376\n",
            "Epoch 29 | Train loss 1.0717397932052612 | Test loss 1.1445630571365357\n",
            "Epoch 30 | Train loss 1.0636234944152831 | Test loss 1.1426653944015503\n",
            "Epoch 31 | Train loss 1.0574496012496948 | Test loss 1.1342066204071044\n",
            "Epoch 32 | Train loss 1.0503333670043946 | Test loss 1.1372696620941163\n",
            "Epoch 33 | Train loss 1.0456870071983337 | Test loss 1.1264367357254028\n",
            "Epoch 34 | Train loss 1.0369003675460815 | Test loss 1.1216256958007813\n",
            "Epoch 35 | Train loss 1.0284929488372803 | Test loss 1.119369782447815\n",
            "Epoch 36 | Train loss 1.0235236614990235 | Test loss 1.1235308799743653\n",
            "Epoch 37 | Train loss 1.0132970540428161 | Test loss 1.1047899715423584\n",
            "Epoch 38 | Train loss 1.0074806679153443 | Test loss 1.106580015563965\n",
            "Epoch 39 | Train loss 1.0053989987373353 | Test loss 1.099211849594116\n",
            "Epoch 40 | Train loss 0.9963424473571777 | Test loss 1.0992397394180298\n",
            "Epoch 41 | Train loss 0.9907339554977417 | Test loss 1.095173524093628\n",
            "Epoch 42 | Train loss 0.9893188285446167 | Test loss 1.0976054262161254\n",
            "Epoch 43 | Train loss 0.9838835479354858 | Test loss 1.0864274641036988\n",
            "Epoch 44 | Train loss 0.9775861996841431 | Test loss 1.0831183233261108\n",
            "Epoch 45 | Train loss 0.9718337078094482 | Test loss 1.0805274639129638\n",
            "Epoch 46 | Train loss 0.9651583597755432 | Test loss 1.0820369590759278\n",
            "Epoch 47 | Train loss 0.9613030746650696 | Test loss 1.080314851951599\n",
            "Epoch 48 | Train loss 0.9571799080085754 | Test loss 1.089149355506897\n",
            "Epoch 49 | Train loss 0.954215344619751 | Test loss 1.0679342111587524\n",
            "Epoch 50 | Train loss 0.9491370015907288 | Test loss 1.0781219095230103\n",
            "Epoch 51 | Train loss 0.9480952149200439 | Test loss 1.0723620151519775\n",
            "Epoch 52 | Train loss 0.9395872378540039 | Test loss 1.0708421113967896\n",
            "Epoch 53 | Train loss 0.9343482144355774 | Test loss 1.0581854721069337\n",
            "Epoch 54 | Train loss 0.9288606918334961 | Test loss 1.0634089752197267\n",
            "Epoch 55 | Train loss 0.9278966795730591 | Test loss 1.0639598323822022\n",
            "Epoch 56 | Train loss 0.9212391886520386 | Test loss 1.057949951171875\n",
            "Epoch 57 | Train loss 0.9242443896865845 | Test loss 1.0692625261306763\n",
            "Epoch 58 | Train loss 0.9171168794822693 | Test loss 1.0589154342651368\n",
            "Epoch 59 | Train loss 0.9123744506454468 | Test loss 1.063424477005005\n",
            "Epoch 60 | Train loss 0.9106484011077881 | Test loss 1.0537363933563233\n",
            "Epoch 61 | Train loss 0.9026515845870972 | Test loss 1.0550536237716674\n",
            "Epoch 62 | Train loss 0.902272860584259 | Test loss 1.0583173427581787\n",
            "Epoch 63 | Train loss 0.900276057357788 | Test loss 1.0468136270523072\n",
            "Epoch 64 | Train loss 0.8973758834266663 | Test loss 1.0506001930236817\n",
            "Epoch 65 | Train loss 0.8970990027236938 | Test loss 1.063003096961975\n",
            "Epoch 66 | Train loss 0.8937766895294189 | Test loss 1.0491399436950684\n",
            "Epoch 67 | Train loss 0.889363406124115 | Test loss 1.0628685564041138\n",
            "Epoch 68 | Train loss 0.8848787880325317 | Test loss 1.0476093727111817\n",
            "Epoch 69 | Train loss 0.884113033695221 | Test loss 1.0666224758148193\n",
            "Epoch 70 | Train loss 0.8766985864448548 | Test loss 1.037843186378479\n",
            "Epoch 71 | Train loss 0.8730407605934143 | Test loss 1.0568360233306884\n",
            "Epoch 72 | Train loss 0.8717611512565613 | Test loss 1.0440333461761475\n",
            "Epoch 73 | Train loss 0.871552685585022 | Test loss 1.0471488939285278\n",
            "Epoch 74 | Train loss 0.8656304215431213 | Test loss 1.0477449184417724\n",
            "Epoch 75 | Train loss 0.8629527318191529 | Test loss 1.0365299898147582\n",
            "Epoch 76 | Train loss 0.86113240858078 | Test loss 1.053606784248352\n",
            "Epoch 77 | Train loss 0.8588320901298523 | Test loss 1.0546509502410888\n",
            "Epoch 78 | Train loss 0.8586952717781067 | Test loss 1.048389730834961\n",
            "Epoch 79 | Train loss 0.857405269947052 | Test loss 1.0552519580841064\n",
            "Epoch 80 | Train loss 0.8505193007659912 | Test loss 1.0352719625473021\n",
            "Epoch 81 | Train loss 0.8486227048110961 | Test loss 1.0340672576904297\n",
            "Epoch 82 | Train loss 0.845920729598999 | Test loss 1.055822816848755\n",
            "Epoch 83 | Train loss 0.8464634569740296 | Test loss 1.0426197582244874\n",
            "Epoch 84 | Train loss 0.8431914478683472 | Test loss 1.033449662590027\n",
            "Epoch 85 | Train loss 0.8407896299934388 | Test loss 1.0343333040237426\n",
            "Epoch 86 | Train loss 0.8338233582115173 | Test loss 1.039632546234131\n",
            "Epoch 87 | Train loss 0.8368203335189819 | Test loss 1.0348314498901368\n",
            "Epoch 88 | Train loss 0.8369269138717651 | Test loss 1.0295713163375855\n",
            "Epoch 89 | Train loss 0.8302678676223755 | Test loss 1.0305029497146607\n",
            "Epoch 90 | Train loss 0.832349280910492 | Test loss 1.0398105808258056\n",
            "Epoch 91 | Train loss 0.8298055933952332 | Test loss 1.0416687480926514\n",
            "Epoch 92 | Train loss 0.8217801547241211 | Test loss 1.0307735761642456\n",
            "Epoch 93 | Train loss 0.8206532749938965 | Test loss 1.0432843269348144\n",
            "Epoch 94 | Train loss 0.8182257515144348 | Test loss 1.0377534200668335\n",
            "Epoch 95 | Train loss 0.818290756034851 | Test loss 1.0351238958358764\n",
            "Epoch 96 | Train loss 0.822778935585022 | Test loss 1.0332712505340576\n",
            "Epoch 97 | Train loss 0.8146675673294067 | Test loss 1.0380067354202271\n",
            "Epoch 98 | Train loss 0.8125378453826905 | Test loss 1.0393193096160889\n",
            "Epoch 99 | Train loss 0.8140562817192077 | Test loss 1.0302553464889526\n"
          ]
        }
      ],
      "source": [
        "model = Model().to(device)\n",
        "train_l, test_l = train(model)"
      ]
    },
    {
      "cell_type": "markdown",
      "metadata": {
        "id": "OJNAuHjNQuvn"
      },
      "source": [
        "Построим график функции потерь"
      ]
    },
    {
      "cell_type": "code",
      "execution_count": null,
      "metadata": {
        "id": "F6OEGqriQuvo",
        "outputId": "d55d042b-dca8-41f0-b333-f2177d098f9e",
        "colab": {
          "base_uri": "https://localhost:8080/",
          "height": 441
        }
      },
      "outputs": [
        {
          "output_type": "display_data",
          "data": {
            "image/png": "[encoded data removed]",
            "text/plain": [
              "<Figure size 864x432 with 1 Axes>"
            ]
          },
          "metadata": {
            "needs_background": "light"
          }
        }
      ],
      "source": [
        "plt.figure(figsize=(12, 6))\n",
        "plt.plot(range(len(train_l)), train_l, label=\"train\")\n",
        "plt.plot(range(len(test_l)), test_l, label=\"test\")\n",
        "plt.xlabel(\"Epoch\")\n",
        "plt.ylabel(\"Loss\")\n",
        "plt.legend()\n",
        "plt.tight_layout()\n",
        "plt.show()"
      ]
    },
    {
      "cell_type": "markdown",
      "metadata": {
        "id": "miUxg0bDQuvs"
      },
      "source": [
        "И, наконец, посчитаем метрики"
      ]
    },
    {
      "cell_type": "code",
      "execution_count": null,
      "metadata": {
        "id": "UXSOJFI8Quvt",
        "outputId": "d59b1303-eda1-4b9f-efa3-d0a1cbfa63e2",
        "colab": {
          "base_uri": "https://localhost:8080/"
        }
      },
      "outputs": [
        {
          "output_type": "stream",
          "name": "stdout",
          "text": [
            "Overall accuracy 0.6428\n",
            "Precision [0.65639166 0.76536885 0.5098242  0.46511628 0.57328016 0.58118701\n",
            " 0.70914397 0.69246032 0.74218009 0.70519099]\n",
            "Recall [0.724 0.747 0.493 0.44  0.575 0.519 0.729 0.698 0.783 0.72 ]\n",
            "Mean Precision 0.6400143529137235\n",
            "Mean Recall 0.6428\n"
          ]
        }
      ],
      "source": [
        "true_positive = np.zeros(10)\n",
        "true_negative = np.zeros(10)\n",
        "false_positive = np.zeros(10)\n",
        "false_negative = np.zeros(10)\n",
        "accuracy = 0\n",
        "ctn = 0\n",
        "for X, y in iter(test_loader):\n",
        "    X = X.to(device)\n",
        "    y = y.to(device)\n",
        "    with torch.no_grad():\n",
        "        y_pred = model(X).max(dim=1)[1]\n",
        "    for i in range(10):\n",
        "        for pred, real in zip(y_pred, y):\n",
        "            if real == i:\n",
        "                if pred == real:\n",
        "                    true_positive[i] += 1\n",
        "                else:\n",
        "                    false_negative[i] += 1\n",
        "            else:\n",
        "                if pred == i:\n",
        "                    false_positive[i] += 1\n",
        "                else:\n",
        "                    true_negative[i] += 1\n",
        "            \n",
        "    accuracy += torch.sum(y_pred == y).item()\n",
        "    ctn += len(y)\n",
        "print(\"Overall accuracy\", accuracy / ctn)\n",
        "print(\"Precision\", true_positive / (true_positive + false_positive))\n",
        "print(\"Recall\", true_positive / (true_positive + false_negative))\n",
        "print(\"Mean Precision\", np.mean(true_positive / (true_positive + false_positive)))\n",
        "print(\"Mean Recall\", np.mean(true_positive / (true_positive + false_negative)))"
      ]
    },
    {
      "cell_type": "code",
      "execution_count": null,
      "metadata": {
        "id": "EKA-j4rIQuvv"
      },
      "outputs": [],
      "source": [
        ""
      ]
    }
  ],
  "metadata": {
    "colab": {
      "collapsed_sections": [],
      "name": "Копия блокнота \"hw05_task.ipynb\"",
      "provenance": []
    },
    "kernelspec": {
      "display_name": "Python 3",
      "language": "python",
      "name": "python3"
    },
    "language_info": {
      "codemirror_mode": {
        "name": "ipython",
        "version": 3
      },
      "file_extension": ".py",
      "mimetype": "text/x-python",
      "name": "python",
      "nbconvert_exporter": "python",
      "pygments_lexer": "ipython3",
      "version": "3.7.3"
    },
    "widgets": {
      "application/vnd.jupyter.widget-state+json": {
        "1483357a766e4efda0318de1d14d8592": {
          "model_module": "@jupyter-widgets/controls",
          "model_module_version": "1.5.0",
          "model_name": "FloatProgressModel",
          "state": {
            "_dom_classes": [],
            "_model_module": "@jupyter-widgets/controls",
            "_model_module_version": "1.5.0",
            "_model_name": "FloatProgressModel",
            "_view_count": null,
            "_view_module": "@jupyter-widgets/controls",
            "_view_module_version": "1.5.0",
            "_view_name": "ProgressView",
            "bar_style": "success",
            "description": "",
            "description_tooltip": null,
            "layout": "IPY_MODEL_3b6b61646f56465697c1ea1d64dddda0",
            "max": 170498071,
            "min": 0,
            "orientation": "horizontal",
            "style": "IPY_MODEL_21b9dc5982d44ecabc1ddeefb152c6a9",
            "value": 170498071
          }
        },
        "198fb1fb26854e6295f0a7eb2cd24986": {
          "model_module": "@jupyter-widgets/base",
          "model_module_version": "1.2.0",
          "model_name": "LayoutModel",
          "state": {
            "_model_module": "@jupyter-widgets/base",
            "_model_module_version": "1.2.0",
            "_model_name": "LayoutModel",
            "_view_count": null,
            "_view_module": "@jupyter-widgets/base",
            "_view_module_version": "1.2.0",
            "_view_name": "LayoutView",
            "align_content": null,
            "align_items": null,
            "align_self": null,
            "border": null,
            "bottom": null,
            "display": null,
            "flex": null,
            "flex_flow": null,
            "grid_area": null,
            "grid_auto_columns": null,
            "grid_auto_flow": null,
            "grid_auto_rows": null,
            "grid_column": null,
            "grid_gap": null,
            "grid_row": null,
            "grid_template_areas": null,
            "grid_template_columns": null,
            "grid_template_rows": null,
            "height": null,
            "justify_content": null,
            "justify_items": null,
            "left": null,
            "margin": null,
            "max_height": null,
            "max_width": null,
            "min_height": null,
            "min_width": null,
            "object_fit": null,
            "object_position": null,
            "order": null,
            "overflow": null,
            "overflow_x": null,
            "overflow_y": null,
            "padding": null,
            "right": null,
            "top": null,
            "visibility": null,
            "width": null
          }
        },
        "21b9dc5982d44ecabc1ddeefb152c6a9": {
          "model_module": "@jupyter-widgets/controls",
          "model_module_version": "1.5.0",
          "model_name": "ProgressStyleModel",
          "state": {
            "_model_module": "@jupyter-widgets/controls",
            "_model_module_version": "1.5.0",
            "_model_name": "ProgressStyleModel",
            "_view_count": null,
            "_view_module": "@jupyter-widgets/base",
            "_view_module_version": "1.2.0",
            "_view_name": "StyleView",
            "bar_color": null,
            "description_width": ""
          }
        },
        "25f4f0a7b5d4408c87470720614e37ba": {
          "model_module": "@jupyter-widgets/controls",
          "model_module_version": "1.5.0",
          "model_name": "DescriptionStyleModel",
          "state": {
            "_model_module": "@jupyter-widgets/controls",
            "_model_module_version": "1.5.0",
            "_model_name": "DescriptionStyleModel",
            "_view_count": null,
            "_view_module": "@jupyter-widgets/base",
            "_view_module_version": "1.2.0",
            "_view_name": "StyleView",
            "description_width": ""
          }
        },
        "3b6b61646f56465697c1ea1d64dddda0": {
          "model_module": "@jupyter-widgets/base",
          "model_module_version": "1.2.0",
          "model_name": "LayoutModel",
          "state": {
            "_model_module": "@jupyter-widgets/base",
            "_model_module_version": "1.2.0",
            "_model_name": "LayoutModel",
            "_view_count": null,
            "_view_module": "@jupyter-widgets/base",
            "_view_module_version": "1.2.0",
            "_view_name": "LayoutView",
            "align_content": null,
            "align_items": null,
            "align_self": null,
            "border": null,
            "bottom": null,
            "display": null,
            "flex": null,
            "flex_flow": null,
            "grid_area": null,
            "grid_auto_columns": null,
            "grid_auto_flow": null,
            "grid_auto_rows": null,
            "grid_column": null,
            "grid_gap": null,
            "grid_row": null,
            "grid_template_areas": null,
            "grid_template_columns": null,
            "grid_template_rows": null,
            "height": null,
            "justify_content": null,
            "justify_items": null,
            "left": null,
            "margin": null,
            "max_height": null,
            "max_width": null,
            "min_height": null,
            "min_width": null,
            "object_fit": null,
            "object_position": null,
            "order": null,
            "overflow": null,
            "overflow_x": null,
            "overflow_y": null,
            "padding": null,
            "right": null,
            "top": null,
            "visibility": null,
            "width": null
          }
        },
        "40fe1b17c61c4cbcbe4fb9604f8e860d": {
          "model_module": "@jupyter-widgets/controls",
          "model_module_version": "1.5.0",
          "model_name": "HTMLModel",
          "state": {
            "_dom_classes": [],
            "_model_module": "@jupyter-widgets/controls",
            "_model_module_version": "1.5.0",
            "_model_name": "HTMLModel",
            "_view_count": null,
            "_view_module": "@jupyter-widgets/controls",
            "_view_module_version": "1.5.0",
            "_view_name": "HTMLView",
            "description": "",
            "description_tooltip": null,
            "layout": "IPY_MODEL_198fb1fb26854e6295f0a7eb2cd24986",
            "placeholder": "​",
            "style": "IPY_MODEL_25f4f0a7b5d4408c87470720614e37ba",
            "value": ""
          }
        },
        "6b180f460c40463a8832d5e9d14b4427": {
          "model_module": "@jupyter-widgets/base",
          "model_module_version": "1.2.0",
          "model_name": "LayoutModel",
          "state": {
            "_model_module": "@jupyter-widgets/base",
            "_model_module_version": "1.2.0",
            "_model_name": "LayoutModel",
            "_view_count": null,
            "_view_module": "@jupyter-widgets/base",
            "_view_module_version": "1.2.0",
            "_view_name": "LayoutView",
            "align_content": null,
            "align_items": null,
            "align_self": null,
            "border": null,
            "bottom": null,
            "display": null,
            "flex": null,
            "flex_flow": null,
            "grid_area": null,
            "grid_auto_columns": null,
            "grid_auto_flow": null,
            "grid_auto_rows": null,
            "grid_column": null,
            "grid_gap": null,
            "grid_row": null,
            "grid_template_areas": null,
            "grid_template_columns": null,
            "grid_template_rows": null,
            "height": null,
            "justify_content": null,
            "justify_items": null,
            "left": null,
            "margin": null,
            "max_height": null,
            "max_width": null,
            "min_height": null,
            "min_width": null,
            "object_fit": null,
            "object_position": null,
            "order": null,
            "overflow": null,
            "overflow_x": null,
            "overflow_y": null,
            "padding": null,
            "right": null,
            "top": null,
            "visibility": null,
            "width": null
          }
        },
        "8bc2aee32cbe4644a0ebeed641e76329": {
          "model_module": "@jupyter-widgets/controls",
          "model_module_version": "1.5.0",
          "model_name": "DescriptionStyleModel",
          "state": {
            "_model_module": "@jupyter-widgets/controls",
            "_model_module_version": "1.5.0",
            "_model_name": "DescriptionStyleModel",
            "_view_count": null,
            "_view_module": "@jupyter-widgets/base",
            "_view_module_version": "1.2.0",
            "_view_name": "StyleView",
            "description_width": ""
          }
        },
        "d78a8f678ef3400c9bb92fca7b629f8a": {
          "model_module": "@jupyter-widgets/controls",
          "model_module_version": "1.5.0",
          "model_name": "HTMLModel",
          "state": {
            "_dom_classes": [],
            "_model_module": "@jupyter-widgets/controls",
            "_model_module_version": "1.5.0",
            "_model_name": "HTMLModel",
            "_view_count": null,
            "_view_module": "@jupyter-widgets/controls",
            "_view_module_version": "1.5.0",
            "_view_name": "HTMLView",
            "description": "",
            "description_tooltip": null,
            "layout": "IPY_MODEL_6b180f460c40463a8832d5e9d14b4427",
            "placeholder": "​",
            "style": "IPY_MODEL_8bc2aee32cbe4644a0ebeed641e76329",
            "value": " 170499072/? [00:02&lt;00:00, 60886534.27it/s]"
          }
        },
        "f33b525fce5d4d8d9307446d64fb282b": {
          "model_module": "@jupyter-widgets/controls",
          "model_module_version": "1.5.0",
          "model_name": "HBoxModel",
          "state": {
            "_dom_classes": [],
            "_model_module": "@jupyter-widgets/controls",
            "_model_module_version": "1.5.0",
            "_model_name": "HBoxModel",
            "_view_count": null,
            "_view_module": "@jupyter-widgets/controls",
            "_view_module_version": "1.5.0",
            "_view_name": "HBoxView",
            "box_style": "",
            "children": [
              "IPY_MODEL_40fe1b17c61c4cbcbe4fb9604f8e860d",
              "IPY_MODEL_1483357a766e4efda0318de1d14d8592",
              "IPY_MODEL_d78a8f678ef3400c9bb92fca7b629f8a"
            ],
            "layout": "IPY_MODEL_f85a87f2a05f4deb8b5f783c05d105d5"
          }
        },
        "f85a87f2a05f4deb8b5f783c05d105d5": {
          "model_module": "@jupyter-widgets/base",
          "model_module_version": "1.2.0",
          "model_name": "LayoutModel",
          "state": {
            "_model_module": "@jupyter-widgets/base",
            "_model_module_version": "1.2.0",
            "_model_name": "LayoutModel",
            "_view_count": null,
            "_view_module": "@jupyter-widgets/base",
            "_view_module_version": "1.2.0",
            "_view_name": "LayoutView",
            "align_content": null,
            "align_items": null,
            "align_self": null,
            "border": null,
            "bottom": null,
            "display": null,
            "flex": null,
            "flex_flow": null,
            "grid_area": null,
            "grid_auto_columns": null,
            "grid_auto_flow": null,
            "grid_auto_rows": null,
            "grid_column": null,
            "grid_gap": null,
            "grid_row": null,
            "grid_template_areas": null,
            "grid_template_columns": null,
            "grid_template_rows": null,
            "height": null,
            "justify_content": null,
            "justify_items": null,
            "left": null,
            "margin": null,
            "max_height": null,
            "max_width": null,
            "min_height": null,
            "min_width": null,
            "object_fit": null,
            "object_position": null,
            "order": null,
            "overflow": null,
            "overflow_x": null,
            "overflow_y": null,
            "padding": null,
            "right": null,
            "top": null,
            "visibility": null,
            "width": null
          }
        }
      }
    }
  },
  "nbformat": 4,
  "nbformat_minor": 0
}