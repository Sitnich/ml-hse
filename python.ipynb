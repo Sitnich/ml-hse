{
 "cells": [
  {
   "cell_type": "markdown",
   "metadata": {},
   "source": [
    "## Основной синтаксис"
   ]
  },
  {
   "cell_type": "markdown",
   "metadata": {},
   "source": [
    "### Циклы и условные операторы"
   ]
  },
  {
   "cell_type": "code",
   "execution_count": null,
   "metadata": {},
   "outputs": [],
   "source": [
    "for i in range(5):\n",
    "    print(i)"
   ]
  },
  {
   "cell_type": "code",
   "execution_count": null,
   "metadata": {},
   "outputs": [],
   "source": [
    "for i in range(2, 7, 2):\n",
    "    print(i)"
   ]
  },
  {
   "cell_type": "code",
   "execution_count": null,
   "metadata": {},
   "outputs": [],
   "source": [
    "while i < 5:\n",
    "    print(i)\n",
    "    i += 1"
   ]
  },
  {
   "cell_type": "code",
   "execution_count": null,
   "metadata": {},
   "outputs": [],
   "source": [
    "arr = [0, 1, 2, 3, 4]\n",
    "for i in arr:\n",
    "    print(i)"
   ]
  },
  {
   "cell_type": "code",
   "execution_count": null,
   "metadata": {},
   "outputs": [],
   "source": [
    "i = 2 + 5\n",
    "if i > 3:\n",
    "    print(i)\n",
    "else:\n",
    "    print(i+3)"
   ]
  },
  {
   "cell_type": "markdown",
   "metadata": {},
   "source": [
    "### Структуры данных"
   ]
  },
  {
   "cell_type": "code",
   "execution_count": null,
   "metadata": {},
   "outputs": [],
   "source": [
    "# Массив/лист\n",
    "arr = [0, 1, 2, 3, 4, \"a\", \"b\", \"c\"]\n",
    "arr.append(\"d\")\n",
    "for i in arr:\n",
    "    print(i)"
   ]
  },
  {
   "cell_type": "code",
   "execution_count": null,
   "metadata": {},
   "outputs": [],
   "source": [
    "# Тьюпл (неизменяемый массив)\n",
    "arr = (0, 1, 2, 3, 4, \"a\", \"b\", \"c\")\n",
    "for i in arr:\n",
    "    print(i)"
   ]
  },
  {
   "cell_type": "code",
   "execution_count": 22,
   "metadata": {},
   "outputs": [
    {
     "name": "stdout",
     "output_type": "stream",
     "text": [
      "0\n",
      "1\n",
      "2\n",
      "3\n",
      "4\n",
      "b\n",
      "c\n",
      "a\n",
      "d\n"
     ]
    }
   ],
   "source": [
    "# Set\n",
    "s = set([\"a\", \"b\", \"c\", 0, 1, 2, 3, 4])\n",
    "s.add(\"d\")\n",
    "for i in s:\n",
    "    print(i)"
   ]
  },
  {
   "cell_type": "code",
   "execution_count": null,
   "metadata": {},
   "outputs": [],
   "source": [
    "# Словарь (работает как hashmap)\n",
    "d = {\n",
    "    0: \"a\",\n",
    "    1: \"b\",\n",
    "    2: \"c\",\n",
    "    3: \"d\",\n",
    "    \"one\": 1\n",
    "}\n",
    "d[\"two\"] = 2\n",
    "for i in d:\n",
    "    print(i)\n",
    "    \n",
    "for i in d:\n",
    "    print(d[i])\n",
    "    \n",
    "print(d.get(4, \"e\")) # get с дефолтным значением"
   ]
  },
  {
   "cell_type": "markdown",
   "metadata": {},
   "source": [
    "## Дополнительный синтаксис"
   ]
  },
  {
   "cell_type": "markdown",
   "metadata": {},
   "source": [
    "### Генераторы"
   ]
  },
  {
   "cell_type": "code",
   "execution_count": null,
   "metadata": {},
   "outputs": [],
   "source": [
    "# Сгенерирует все числа, которые деляся на 7\n",
    "arr = [i for i in range(100) if i % 7 == 0]\n",
    "print(arr)\n",
    "# Сгенерирует список чисел, к которым применена операция\n",
    "arr = [(2*i + 10) % 3 for i in range(10)]\n",
    "print(arr)"
   ]
  },
  {
   "cell_type": "code",
   "execution_count": null,
   "metadata": {},
   "outputs": [],
   "source": [
    "# Сгенерирует все возможные пары \n",
    "arr = [(i+j) for i in range(3) for j in range(3)]\n",
    "print(arr)"
   ]
  },
  {
   "cell_type": "code",
   "execution_count": null,
   "metadata": {},
   "outputs": [],
   "source": [
    "# Попарно сложит элементы двух списков\n",
    "arr = [(i+j) for i, j in zip(range(3), range(3))]\n",
    "print(arr)\n",
    "print()\n",
    "print(list(zip(range(3), range(3))))"
   ]
  },
  {
   "cell_type": "code",
   "execution_count": null,
   "metadata": {},
   "outputs": [],
   "source": [
    "# сложит числа и их номера\n",
    "arr = [(i+j) for i, j in enumerate(range(3))]"
   ]
  },
  {
   "cell_type": "markdown",
   "metadata": {},
   "source": [
    "### Функции"
   ]
  },
  {
   "cell_type": "code",
   "execution_count": null,
   "metadata": {},
   "outputs": [],
   "source": [
    "# Можно вернуть тьюпл значений\n",
    "def f(a):\n",
    "    return a*2\n",
    "\n",
    "print(f(0))"
   ]
  },
  {
   "cell_type": "code",
   "execution_count": null,
   "metadata": {},
   "outputs": [],
   "source": [
    "# Можно вернуть тьюпл значений\n",
    "def f(a):\n",
    "    return a, a+1, a+2\n",
    "\n",
    "print(f(0))"
   ]
  },
  {
   "cell_type": "code",
   "execution_count": null,
   "metadata": {},
   "outputs": [],
   "source": [
    "# Функция может принимать на вход функцию. А еще можно писать лямбда-функции\n",
    "def f(g, a):\n",
    "    return g(a) * 2\n",
    "\n",
    "print(f((lambda x: x+1), 2))"
   ]
  },
  {
   "cell_type": "code",
   "execution_count": null,
   "metadata": {},
   "outputs": [],
   "source": []
  }
 ],
 "metadata": {
  "kernelspec": {
   "display_name": "Python 3",
   "language": "python",
   "name": "python3"
  },
  "language_info": {
   "codemirror_mode": {
    "name": "ipython",
    "version": 3
   },
   "file_extension": ".py",
   "mimetype": "text/x-python",
   "name": "python",
   "nbconvert_exporter": "python",
   "pygments_lexer": "ipython3",
   "version": "3.7.3"
  }
 },
 "nbformat": 4,
 "nbformat_minor": 2
}
