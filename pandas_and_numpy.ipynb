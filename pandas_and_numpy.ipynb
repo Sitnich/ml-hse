{
 "cells": [
  {
   "cell_type": "markdown",
   "metadata": {},
   "source": [
    "### Pandas"
   ]
  },
  {
   "cell_type": "code",
   "execution_count": 1,
   "metadata": {},
   "outputs": [
    {
     "data": {
      "text/plain": [
       "[['M',\n",
       "  20.57,\n",
       "  17.77,\n",
       "  132.9,\n",
       "  1326.0,\n",
       "  0.08474,\n",
       "  0.07864,\n",
       "  0.0869,\n",
       "  0.07017000000000001,\n",
       "  0.1812,\n",
       "  0.056670000000000005,\n",
       "  0.5435,\n",
       "  0.7339,\n",
       "  3.398,\n",
       "  74.08,\n",
       "  0.005225,\n",
       "  0.013080000000000001,\n",
       "  0.0186,\n",
       "  0.0134,\n",
       "  0.013890000000000001,\n",
       "  0.003532,\n",
       "  24.99,\n",
       "  23.41,\n",
       "  158.8,\n",
       "  1956.0,\n",
       "  0.1238,\n",
       "  0.1866,\n",
       "  0.2416,\n",
       "  0.18600000000000003,\n",
       "  0.275,\n",
       "  0.08902],\n",
       " ['M',\n",
       "  19.69,\n",
       "  21.25,\n",
       "  130.0,\n",
       "  1203.0,\n",
       "  0.1096,\n",
       "  0.1599,\n",
       "  0.1974,\n",
       "  0.1279,\n",
       "  0.2069,\n",
       "  0.059989999999999995,\n",
       "  0.7456,\n",
       "  0.7869,\n",
       "  4.585,\n",
       "  94.03,\n",
       "  0.00615,\n",
       "  0.040060000000000005,\n",
       "  0.03832,\n",
       "  0.02058,\n",
       "  0.0225,\n",
       "  0.004571,\n",
       "  23.57,\n",
       "  25.53,\n",
       "  152.5,\n",
       "  1709.0,\n",
       "  0.1444,\n",
       "  0.4245,\n",
       "  0.4504,\n",
       "  0.243,\n",
       "  0.3613,\n",
       "  0.08757999999999999]]"
      ]
     },
     "execution_count": 1,
     "metadata": {},
     "output_type": "execute_result"
    }
   ],
   "source": [
    "import pandas\n",
    "\n",
    "# Reading csv\n",
    "dataframe = pandas.read_csv(\"cancer.csv\", header=1)\n",
    "\n",
    "# Converting dataframe to list\n",
    "dataframe.values.tolist()[:2]"
   ]
  },
  {
   "cell_type": "markdown",
   "metadata": {},
   "source": [
    "### NumPy"
   ]
  },
  {
   "cell_type": "code",
   "execution_count": 2,
   "metadata": {},
   "outputs": [],
   "source": [
    "import numpy as np\n",
    "\n",
    "# Converting from and to list\n",
    "vector = [1, 2, 3]\n",
    "np_vector = np.array(vector)\n",
    "vector = np_vector.tolist()\n",
    "matrix = [[1, 2, 3], [4, 5, 6]]\n",
    "np_matrix = np.array(matrix)\n",
    "matrix = np_matrix.tolist()"
   ]
  },
  {
   "cell_type": "code",
   "execution_count": 3,
   "metadata": {},
   "outputs": [
    {
     "data": {
      "text/plain": [
       "array([1, 2, 3])"
      ]
     },
     "execution_count": 3,
     "metadata": {},
     "output_type": "execute_result"
    }
   ],
   "source": [
    "# Elementvise operations\n",
    "np_vector * np_vector\n",
    "np_vector - np_vector\n",
    "np_vector + np_vector\n",
    "np_vector / np_vector\n",
    "np_matrix * np_vector\n",
    "np_matrix - np_vector\n",
    "np_matrix + np_vector\n",
    "np_matrix / np_vector\n",
    "\n",
    "# Tensor operations\n",
    "np_vector.dot(np_vector) # Production\n",
    "np_matrix.T # Transpose\n",
    "\n",
    "# Other operations\n",
    "np.unique(np_vector)\n",
    "np.argmax(np_matrix, axis=1)\n",
    "np.min(np_matrix, axis=0)"
   ]
  },
  {
   "cell_type": "code",
   "execution_count": 4,
   "metadata": {},
   "outputs": [],
   "source": [
    "# Primitives\n",
    "ones = np.ones((4, 3, 2))\n",
    "zeros = np.zeros((2, 3, 4))\n",
    "np_range = np.arange(1, 6)\n",
    "np_range = np.arange(1, 6, 0.5)\n",
    "np_linspace = np.linspace(0, 1, 4)\n",
    "eye = np.eye(4)"
   ]
  },
  {
   "cell_type": "code",
   "execution_count": 5,
   "metadata": {},
   "outputs": [],
   "source": [
    "# Shape\n",
    "a = np.linspace(0, 1, 12)\n",
    "a = a.reshape((2, 6))\n",
    "a = a.reshape((-1, 3))"
   ]
  },
  {
   "cell_type": "code",
   "execution_count": 6,
   "metadata": {},
   "outputs": [],
   "source": [
    "# Random\n",
    "normal_distribution = np.random.randn(2, 3)\n",
    "uniform_distribution = np.random.random((2, 3))\n",
    "integers = np.random.randint(1, 3, (2, 3))"
   ]
  },
  {
   "cell_type": "code",
   "execution_count": null,
   "metadata": {},
   "outputs": [],
   "source": []
  },
  {
   "cell_type": "code",
   "execution_count": 7,
   "metadata": {},
   "outputs": [
    {
     "data": {
      "text/plain": [
       "array([[ 1.11290819,  0.53678883,  0.95677494, -0.58315618,  0.22064085,\n",
       "        -0.56952053, -0.00634408,  0.93711405],\n",
       "       [ 0.80664412,  0.36942141, -0.54610433,  0.45318784,  0.67904037,\n",
       "         0.04522392, -0.24210308,  1.12616577],\n",
       "       [ 0.07480189, -0.35458132,  0.44053341,  0.82149288,  1.58153533,\n",
       "        -0.50471208,  1.19977057, -0.25837263]])"
      ]
     },
     "execution_count": 7,
     "metadata": {},
     "output_type": "execute_result"
    }
   ],
   "source": [
    "# Slicing\n",
    "normal_distribution = np.random.randn(6, 8)\n",
    "\n",
    "normal_distribution[1, 1]\n",
    "normal_distribution[:, 1] \n",
    "normal_distribution[::-1, 1]\n",
    "normal_distribution[1, :]\n",
    "\n",
    "normal_distribution[normal_distribution > 0] # 1d!!!\n",
    "normal_distribution[np.random.randn(6) > 0] # 2d!!!\n",
    "normal_distribution[:, np.random.randn(8) > 0] # 2d!!!\n",
    "\n",
    "ids = np.arange(0, 6, 2)\n",
    "normal_distribution[ids]"
   ]
  },
  {
   "cell_type": "code",
   "execution_count": 8,
   "metadata": {},
   "outputs": [
    {
     "name": "stdout",
     "output_type": "stream",
     "text": [
      "[[-0.54237926  0.58529465  1.21931899 -2.13545739]\n",
      " [ 0.10121346  0.88875159 -0.39884148 -0.31101041]\n",
      " [-1.15442655 -1.81404531 -1.3498683  -1.82264535]\n",
      " [-0.07890263 -0.56771651  0.7838692   0.30915667]\n",
      " [-0.32849365 -0.53898557 -1.97604693 -0.10050085]\n",
      " [-0.60153071 -1.01670092 -0.57882985 -1.67501161]]\n",
      "[[-0.54237926 10.          1.21931899 -2.13545739]\n",
      " [ 0.10121346 10.         -0.39884148 -0.31101041]\n",
      " [-1.15442655 10.         -1.3498683  -1.82264535]\n",
      " [-0.07890263 10.          0.7838692   0.30915667]\n",
      " [-0.32849365 10.         -1.97604693 -0.10050085]\n",
      " [-0.60153071 10.         -0.57882985 -1.67501161]]\n"
     ]
    }
   ],
   "source": [
    "# Operations with slices\n",
    "normal_distribution = np.random.randn(6, 4)\n",
    "print(normal_distribution)\n",
    "normal_distribution[:, 1] = 10\n",
    "print(normal_distribution)"
   ]
  },
  {
   "cell_type": "code",
   "execution_count": null,
   "metadata": {},
   "outputs": [],
   "source": []
  }
 ],
 "metadata": {
  "kernelspec": {
   "display_name": "Python 3",
   "language": "python",
   "name": "python3"
  },
  "language_info": {
   "codemirror_mode": {
    "name": "ipython",
    "version": 3
   },
   "file_extension": ".py",
   "mimetype": "text/x-python",
   "name": "python",
   "nbconvert_exporter": "python",
   "pygments_lexer": "ipython3",
   "version": "3.7.3"
  }
 },
 "nbformat": 4,
 "nbformat_minor": 2
}
