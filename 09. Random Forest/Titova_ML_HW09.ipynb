{
 "cells": [
  {
   "cell_type": "markdown",
   "metadata": {
    "id": "kxs2-KrwXHIJ"
   },
   "source": [
    "# Случайные леса\n",
    "__Суммарное количество баллов: 10__\n",
    "\n",
    "__Решение отправлять на `ml.course.practice@gmail.com`__\n",
    "\n",
    "__Тема письма: `[HSE][ML][MS][HW09] <ФИ>`, где вместо `<ФИ>` указаны фамилия и имя__\n",
    "\n",
    "В этом задании вам предстоит реализовать ансамбль деревьев решений, известный как случайный лес, применить его к публичным данным пользователей социальной сети Вконтакте, и сравнить его эффективность с ансамблем, предоставляемым библиотекой CatBoost.\n",
    "\n",
    "В результате мы сможем определить, какие подписки пользователей больше всего влияют на определение возраста и пола человека. "
   ]
  },
  {
   "cell_type": "code",
   "execution_count": 3,
   "metadata": {
    "id": "igibYsAlXHIN",
    "colab": {
     "base_uri": "https://localhost:8080/"
    },
    "outputId": "dcef2fd0-512a-40b1-8370-bb40020ef800"
   },
   "outputs": [
    {
     "output_type": "stream",
     "name": "stdout",
     "text": [
      "Collecting catboost\n",
      "  Downloading catboost-1.0.4-cp37-none-manylinux1_x86_64.whl (76.1 MB)\n",
      "\u001B[K     |████████████████████████████████| 76.1 MB 56 kB/s \n",
      "\u001B[?25hRequirement already satisfied: graphviz in /usr/local/lib/python3.7/dist-packages (from catboost) (0.10.1)\n",
      "Requirement already satisfied: scipy in /usr/local/lib/python3.7/dist-packages (from catboost) (1.4.1)\n",
      "Requirement already satisfied: pandas>=0.24.0 in /usr/local/lib/python3.7/dist-packages (from catboost) (1.3.5)\n",
      "Requirement already satisfied: six in /usr/local/lib/python3.7/dist-packages (from catboost) (1.15.0)\n",
      "Requirement already satisfied: matplotlib in /usr/local/lib/python3.7/dist-packages (from catboost) (3.2.2)\n",
      "Requirement already satisfied: plotly in /usr/local/lib/python3.7/dist-packages (from catboost) (5.5.0)\n",
      "Requirement already satisfied: numpy>=1.16.0 in /usr/local/lib/python3.7/dist-packages (from catboost) (1.21.5)\n",
      "Requirement already satisfied: pytz>=2017.3 in /usr/local/lib/python3.7/dist-packages (from pandas>=0.24.0->catboost) (2018.9)\n",
      "Requirement already satisfied: python-dateutil>=2.7.3 in /usr/local/lib/python3.7/dist-packages (from pandas>=0.24.0->catboost) (2.8.2)\n",
      "Requirement already satisfied: cycler>=0.10 in /usr/local/lib/python3.7/dist-packages (from matplotlib->catboost) (0.11.0)\n",
      "Requirement already satisfied: pyparsing!=2.0.4,!=2.1.2,!=2.1.6,>=2.0.1 in /usr/local/lib/python3.7/dist-packages (from matplotlib->catboost) (3.0.7)\n",
      "Requirement already satisfied: kiwisolver>=1.0.1 in /usr/local/lib/python3.7/dist-packages (from matplotlib->catboost) (1.3.2)\n",
      "Requirement already satisfied: tenacity>=6.2.0 in /usr/local/lib/python3.7/dist-packages (from plotly->catboost) (8.0.1)\n",
      "Installing collected packages: catboost\n",
      "Successfully installed catboost-1.0.4\n"
     ]
    }
   ],
   "source": [
    "!pip install catboost\n",
    "\n",
    "from sklearn.model_selection import train_test_split\n",
    "import numpy as np\n",
    "import pandas\n",
    "import random\n",
    "import matplotlib.pyplot as plt\n",
    "import matplotlib\n",
    "import copy\n",
    "from catboost import CatBoostClassifier\n",
    "from typing import Callable, Union, NoReturn, Optional, Dict, Any, List\n",
    "from scipy.stats import mode\n"
   ]
  },
  {
   "cell_type": "markdown",
   "metadata": {
    "id": "NL0piKVuXHIP"
   },
   "source": [
    "### Задание 1 (2 балла)\n",
    "Random Forest состоит из деревьев решений. Каждое такое дерево строится на одной из выборок, полученных при помощи bagging. Элементы, которые не вошли в новую обучающую выборку, образуют out-of-bag выборку. Кроме того, в каждом узле дерева мы случайным образом выбираем набор из `max_features` и ищем признак для предиката разбиения только в этом наборе.\n",
    "\n",
    "Сегодня мы будем работать только с бинарными признаками, поэтому нет необходимости выбирать значение признака для разбиения.\n",
    "\n",
    "#### Методы\n",
    "`predict(X)` - возвращает предсказанные метки для элементов выборки `X`\n",
    "\n",
    "#### Параметры конструктора\n",
    "`X, y` - обучающая выборка и соответствующие ей метки классов. Из нее нужно получить выборку для построения дерева при помощи bagging. Out-of-bag выборку нужно запомнить, она понадобится потом.\n",
    "\n",
    "`criterion=\"gini\"` - задает критерий, который будет использоваться при построении дерева. Возможные значения: `\"gini\"`, `\"entropy\"`.\n",
    "\n",
    "`max_depth=None` - ограничение глубины дерева. Если `None` - глубина не ограничена\n",
    "\n",
    "`min_samples_leaf=1` - минимальное количество элементов в каждом листе дерева.\n",
    "\n",
    "`max_features=\"auto\"` - количество признаков, которые могут использоваться в узле. Если `\"auto\"` - равно `sqrt(X.shape[1])`"
   ]
  },
  {
   "cell_type": "code",
   "execution_count": 175,
   "metadata": {
    "id": "u3nZDhW3XHIO"
   },
   "outputs": [],
   "source": [
    "def gini(x: np.ndarray) -> float:\n",
    "    un, count = np.unique(x, return_counts = True)\n",
    "    func = lambda i: i*(1-i)\n",
    "    return np.sum(func(count/x.size))\n",
    "\n",
    "    \n",
    "def entropy(x: np.ndarray) -> float:\n",
    "    un, count = np.unique(x, return_counts = True)\n",
    "    func = lambda i: i*np.log2(i)\n",
    "    return -np.sum(func(count/x.size))\n",
    "\n",
    "\n",
    "def gain(left_y: np.ndarray, right_y: np.ndarray, criterion: Callable) -> float:\n",
    "    full_y = np.hstack((left_y, right_y))\n",
    "    return criterion(full_y) - criterion(left_y)*(left_y.size/full_y.size) \\\n",
    "    - criterion(right_y)*(right_y.size/full_y.size)"
   ]
  },
  {
   "cell_type": "code",
   "source": [
    "class DecisionTreeLeaf:\n",
    "\n",
    "    def __init__(self, X):\n",
    "\n",
    "        self.X = X\n",
    "        un, count = np.unique(X, return_counts = True)\n",
    "        self.prob = dict(zip(un, count/len(X)))\n",
    "        self.y = un[np.argmax(count)]\n",
    "        \n",
    "\n",
    "class DecisionTreeNode:\n",
    "\n",
    "    def __init__(self, split_dim, split_value,  left,  right, depth=0):\n",
    "        self.split_dim = split_dim\n",
    "        self.split_value = split_value\n",
    "        self.left = left\n",
    "        self.right = right\n",
    "        self.depth=depth"
   ],
   "metadata": {
    "id": "RJT7g7m3kWYg"
   },
   "execution_count": 176,
   "outputs": []
  },
  {
   "cell_type": "code",
   "execution_count": 210,
   "metadata": {
    "id": "1gShAKrgXHIQ"
   },
   "outputs": [],
   "source": [
    "class DecisionTree:\n",
    "    def __init__(self, X, y, criterion=\"gini\", max_depth=None, min_samples_leaf=1, max_features=\"auto\"):\n",
    "\n",
    "        self.criterion = globals()[criterion]\n",
    "        self.max_features = max_features if isinstance(max_features, int) else int(np.sqrt(X.shape[1])) + 1\n",
    "        self.min_samples_leaf = min_samples_leaf if min_samples_leaf is not None else 0\n",
    "        self.max_depth = max_depth if max_depth is not None else 1e+12\n",
    "\n",
    "        shuffle = np.random.choice(range(X.shape[0]), X.shape[0], replace=True)\n",
    "        self.X, self.oob_X = X[shuffle], X[~shuffle]\n",
    "        self.y, self.oob_y = y[shuffle], y[~shuffle]\n",
    "\n",
    "        self.root = None\n",
    "\n",
    "    def fit(self):\n",
    "        self.root = self.rec_split(self.X, self.y, 0)\n",
    "\n",
    "    def rec_split(self, X, y, depth):\n",
    "\n",
    "        if len(X) > self.min_samples_leaf and depth < self.max_depth:\n",
    "            gains = []\n",
    "\n",
    "            if X.shape[1] > self.max_features:\n",
    "                features = np.random.choice(range(X.shape[1]), self.max_features, replace=False)\n",
    "            else:\n",
    "                features = range(X.shape[1])\n",
    "\n",
    "            for feat in features:\n",
    "                feat_vals = X[:, feat]\n",
    "                split_value = 0.5\n",
    "                left_y, right_y = y[feat_vals < split_value], y[feat_vals >= split_value]\n",
    "                gain_cur = gain(left_y, right_y, self.criterion)\n",
    "\n",
    "                gains.append((gain_cur, split_value, feat))\n",
    "\n",
    "            best_gain, split_value, split_dim = max(gains, key=lambda x: x[0])\n",
    "            less_mask = X[:, split_dim] < split_value\n",
    "\n",
    "            if len(X[less_mask]) == 0 or len(X[~less_mask]) == 0:\n",
    "                return DecisionTreeLeaf(y)\n",
    "\n",
    "            left = self.rec_split(X[less_mask], y[less_mask], depth+1)\n",
    "            right = self.rec_split(X[~less_mask], y[~less_mask], depth+1)\n",
    "\n",
    "            return DecisionTreeNode(split_dim, split_value, left, right)\n",
    "        return DecisionTreeLeaf(y)\n",
    "\n",
    "\n",
    "    def find_leaf(self, X, node):\n",
    "        if type(node) is DecisionTreeLeaf:\n",
    "            return node.prob\n",
    "        y_pred = np.empty(X.shape[0], dtype = object)\n",
    "        mask = X[:, node.split_dim] < node.split_value\n",
    "        y_pred[mask] = self.find_leaf(X[mask], node.left)\n",
    "        y_pred[~mask] = self.find_leaf(X[~mask], node.right)\n",
    "        \n",
    "        return y_pred\n",
    "\n",
    "    def predict_proba(self, X):       \n",
    "        return list(self.find_leaf(X, self.root))\n",
    "        \n",
    "    def predict(self, X):\n",
    "        proba = self.predict_proba(X)\n",
    "        return [max(p.keys(), key=lambda k: p[k]) for p in proba]"
   ]
  },
  {
   "cell_type": "markdown",
   "metadata": {
    "id": "QbfDFicaXHIQ"
   },
   "source": [
    "### Задание 2 (2 балла)\n",
    "Теперь реализуем сам Random Forest. Идея очень простая: строим `n` деревьев, а затем берем модальное предсказание.\n",
    "\n",
    "#### Параметры конструктора\n",
    "`n_estimators` - количество используемых для предсказания деревьев.\n",
    "\n",
    "Остальное - параметры деревьев.\n",
    "\n",
    "#### Методы\n",
    "`fit(X, y)` - строит `n_estimators` деревьев по выборке `X`.\n",
    "\n",
    "`predict(X)` - для каждого элемента выборки `X` возвращает самый частый класс, который предсказывают для него деревья."
   ]
  },
  {
   "cell_type": "code",
   "execution_count": 211,
   "metadata": {
    "id": "z8KtlmvBXHIR"
   },
   "outputs": [],
   "source": [
    "class RandomForestClassifier:\n",
    "    def __init__(self, criterion=\"gini\", max_depth=None, min_samples_leaf=1, max_features=\"auto\", n_estimators=10):\n",
    "\n",
    "        self.criterion = criterion\n",
    "        self.max_depth = max_depth\n",
    "        self.min_samples_leaf = min_samples_leaf\n",
    "        self.max_features = max_features\n",
    "        self.n_estimators = n_estimators\n",
    "        self.trees = []\n",
    "    \n",
    "    def fit(self, X, y):\n",
    "\n",
    "        for i in range(self.n_estimators):\n",
    "            tree = DecisionTree(X, y, self.criterion, self.max_depth, self.min_samples_leaf, self.max_features)\n",
    "            tree.fit()\n",
    "            self.trees.append(tree)\n",
    "    \n",
    "    def predict(self, X):\n",
    "        preds = self.trees[0].predict(X)\n",
    "\n",
    "        for tree in self.trees[1:]:\n",
    "            preds = np.vstack((preds, tree.predict(X)))\n",
    "        \n",
    "        return mode(preds, axis=0)[0]\n"
   ]
  },
  {
   "cell_type": "markdown",
   "metadata": {
    "id": "b41Wii0_XHIR"
   },
   "source": [
    "### Задание 3 (2 балла)\n",
    "Часто хочется понимать, насколько большую роль играет тот или иной признак для предсказания класса объекта. Есть различные способы посчитать его важность. Один из простых способов сделать это для Random Forest - посчитать out-of-bag ошибку предсказания `err_oob`, а затем перемешать значения признака `j` и посчитать ее (`err_oob_j`) еще раз. Оценкой важности признака `j` для одного дерева будет разность `err_oob_j - err_oob`, важность для всего леса считается как среднее значение важности по деревьям.\n",
    "\n",
    "Реализуйте функцию `feature_importance`, которая принимает на вход Random Forest и возвращает массив, в котором содержится важность для каждого признака."
   ]
  },
  {
   "cell_type": "code",
   "execution_count": 212,
   "metadata": {
    "id": "SEa85EniXHIS"
   },
   "outputs": [],
   "source": [
    "def feature_importance(rfc):\n",
    "\n",
    "    err_j = np.empty((len(rfc.trees), rfc.trees[0].X.shape[1]))\n",
    "\n",
    "    for num, tree in enumerate(rfc.trees):\n",
    "        n, m = tree.oob_X.shape\n",
    "        err_oob = np.mean(tree.predict(tree.oob_X) == tree.oob_y)        \n",
    "\n",
    "        for j in range(m):\n",
    "            new_oob = tree.oob_X.copy()\n",
    "            random_idx = np.random.choice(range(n), n, replace=False)\n",
    "            new_oob[:, j] = tree.oob_X[:, j][random_idx]\n",
    "\n",
    "            err_oob_j = np.mean(tree.predict(new_oob) == tree.oob_y)\n",
    "            err_j[num][j] = err_oob - err_oob_j\n",
    "\n",
    "    err_j = np.mean(err_j, axis=0)\n",
    "    return err_j\n",
    "\n",
    "def most_important_features(importance, names, k=20):\n",
    "\n",
    "    idicies = np.argsort(importance)[::-1][:k]\n",
    "    return np.array(names)[idicies]"
   ]
  },
  {
   "cell_type": "markdown",
   "metadata": {
    "id": "w4VS3WDyXHIT"
   },
   "source": [
    "Наконец, пришло время протестировать наше дерево на простом синтетическом наборе данных. В результате точность должна быть примерно равна `1.0`, наибольшее значение важности должно быть у признака с индексом `4`, признаки с индексами `2` и `3`  должны быть одинаково важны, а остальные признаки - не важны совсем."
   ]
  },
  {
   "cell_type": "code",
   "execution_count": 213,
   "metadata": {
    "id": "wDbhPFWIXHIT",
    "colab": {
     "base_uri": "https://localhost:8080/"
    },
    "outputId": "c71fa292-51d2-4f65-b829-2bc55c073c9b"
   },
   "outputs": [
    {
     "output_type": "stream",
     "name": "stdout",
     "text": [
      "Accuracy: 1.0\n",
      "Importance: [-7.2000e-04 -1.5000e-04  1.9909e-01  1.9900e-01  3.9968e-01 -6.2000e-04]\n"
     ]
    }
   ],
   "source": [
    "def synthetic_dataset(size):\n",
    "    X = [(np.random.randint(0, 2), np.random.randint(0, 2), i % 6 == 3, \n",
    "          i % 6 == 0, i % 3 == 2, np.random.randint(0, 2)) for i in range(size)]\n",
    "    y = [i % 3 for i in range(size)]\n",
    "    return np.array(X), np.array(y)\n",
    "\n",
    "X, y = synthetic_dataset(1000)\n",
    "rfc = RandomForestClassifier(n_estimators=100)\n",
    "rfc.fit(X, y)\n",
    "print(\"Accuracy:\", np.mean(rfc.predict(X) == y))\n",
    "print(\"Importance:\", feature_importance(rfc))"
   ]
  },
  {
   "cell_type": "markdown",
   "metadata": {
    "id": "JQSKeGmoXHIT"
   },
   "source": [
    "### Задание 4 (1 балл)\n",
    "Теперь поработаем с реальными данными.\n",
    "\n",
    "Выборка состоит из публичных анонимизированных данных пользователей социальной сети Вконтакте. Первые два столбца отражают возрастную группу (`zoomer`, `doomer` и `boomer`) и пол (`female`, `male`). Все остальные столбцы являются бинарными признаками, каждый из них определяет, подписан ли пользователь на определенную группу/публичную страницу или нет.\\\n",
    "\\\n",
    "Необходимо обучить два классификатора, один из которых определяет возрастную группу, а второй - пол.\\\n",
    "\\\n",
    "Эксперименты с множеством используемых признаков и подбор гиперпараметров приветствуются. Лес должен строиться за какое-то разумное время."
   ]
  },
  {
   "cell_type": "code",
   "execution_count": 98,
   "metadata": {
    "id": "xA1GfFJMXHIU"
   },
   "outputs": [],
   "source": [
    "def read_dataset(path):\n",
    "    dataframe = pandas.read_csv(path, header=0)\n",
    "    dataset = dataframe.values.tolist()\n",
    "    random.shuffle(dataset)\n",
    "    y_age = [row[0] for row in dataset]\n",
    "    y_sex = [row[1] for row in dataset]\n",
    "    X = [row[2:] for row in dataset]\n",
    "    \n",
    "    return np.array(X), np.array(y_age), np.array(y_sex), list(dataframe.columns)[2:]"
   ]
  },
  {
   "cell_type": "code",
   "source": [
    "from google.colab import drive\n",
    "drive.mount('/content/drive')"
   ],
   "metadata": {
    "colab": {
     "base_uri": "https://localhost:8080/"
    },
    "id": "sU8NOQn1EN73",
    "outputId": "31931b93-4c25-4df7-c08c-047eb1d0701f"
   },
   "execution_count": 99,
   "outputs": [
    {
     "output_type": "stream",
     "name": "stdout",
     "text": [
      "Drive already mounted at /content/drive; to attempt to forcibly remount, call drive.mount(\"/content/drive\", force_remount=True).\n"
     ]
    }
   ]
  },
  {
   "cell_type": "code",
   "execution_count": 100,
   "metadata": {
    "id": "qYKHUy7gXHIU"
   },
   "outputs": [],
   "source": [
    "X, y_age, y_sex, features = read_dataset(\"/content/drive/MyDrive/vk.csv\")\n",
    "X_train, X_test, y_age_train, y_age_test, y_sex_train, y_sex_test = train_test_split(X, y_age, y_sex, train_size=0.9)"
   ]
  },
  {
   "cell_type": "markdown",
   "metadata": {
    "id": "eKVys5RMXHIU"
   },
   "source": [
    "#### Возраст"
   ]
  },
  {
   "cell_type": "code",
   "execution_count": 191,
   "metadata": {
    "id": "LYUV5yZHXHIU",
    "colab": {
     "base_uri": "https://localhost:8080/"
    },
    "outputId": "3ae10536-96e6-4838-9c34-b247cfe198e6"
   },
   "outputs": [
    {
     "output_type": "stream",
     "name": "stdout",
     "text": [
      "Accuracy: 0.7225725094577553\n",
      "Most important features:\n",
      "1. mudakoff\n",
      "2. 4ch\n",
      "3. ovsyanochan\n",
      "4. dayvinchik\n",
      "5. rhymes\n",
      "6. styd.pozor\n",
      "7. rapnewrap\n",
      "8. iwantyou\n",
      "9. pravdashowtop\n",
      "10. bot_maxim\n",
      "11. xfilm\n",
      "12. exclusive_muzic\n",
      "13. leprum\n",
      "14. pixel_stickers\n",
      "15. i_des\n",
      "16. tumblr_vacuum\n",
      "17. tnt\n",
      "18. fuck_humor\n",
      "19. borsch\n",
      "20. kino_mania\n"
     ]
    }
   ],
   "source": [
    "rfc = RandomForestClassifier(n_estimators=10)\n",
    "\n",
    "rfc.fit(X_train, y_age_train)\n",
    "print(\"Accuracy:\", np.mean(rfc.predict(X_test) == y_age_test))\n",
    "print(\"Most important features:\")\n",
    "for i, name in enumerate(most_important_features(feature_importance(rfc), features, 20)):\n",
    "    print(str(i+1) + \".\", name)"
   ]
  },
  {
   "cell_type": "markdown",
   "metadata": {
    "id": "wJuzLuVYXHIV"
   },
   "source": [
    "#### Пол"
   ]
  },
  {
   "cell_type": "code",
   "execution_count": 197,
   "metadata": {
    "id": "rBGU4dQ_XHIV",
    "colab": {
     "base_uri": "https://localhost:8080/"
    },
    "outputId": "cb287f36-af98-408e-8cd3-7c298c086a33"
   },
   "outputs": [
    {
     "output_type": "stream",
     "name": "stdout",
     "text": [
      "Accuracy: 0.8537200504413619\n",
      "Most important features:\n",
      "1. mudakoff\n",
      "2. 40kg\n",
      "3. igm\n",
      "4. rapnewrap\n",
      "5. girlmeme\n",
      "6. zerofat\n",
      "7. cook_good\n",
      "8. 9o_6o_9o\n",
      "9. academyofman\n",
      "10. modnailru\n",
      "11. reflexia_our_feelings\n",
      "12. 4ch\n",
      "13. fuck_humor\n",
      "14. be.beauty\n",
      "15. thesmolny\n",
      "16. femalemem\n",
      "17. bot_maxim\n",
      "18. psyxov\n",
      "19. team\n",
      "20. i_d_t\n"
     ]
    }
   ],
   "source": [
    "rfc = RandomForestClassifier(n_estimators=10)\n",
    "rfc.fit(X_train, y_sex_train)\n",
    "print(\"Accuracy:\", np.mean(rfc.predict(X_test) == y_sex_test))\n",
    "print(\"Most important features:\")\n",
    "for i, name in enumerate(most_important_features(feature_importance(rfc), features, 20)):\n",
    "    print(str(i+1) + \".\", name)"
   ]
  },
  {
   "cell_type": "markdown",
   "metadata": {
    "id": "zOO-Lk_0XHIV"
   },
   "source": [
    "### CatBoost\n",
    "В качестве аьтернативы попробуем CatBoost. \n",
    "\n",
    "Устаниовить его можно просто с помощью `pip install catboost`. Туториалы можно найти, например, [здесь](https://catboost.ai/docs/concepts/python-usages-examples.html#multiclassification) и [здесь](https://github.com/catboost/tutorials/blob/master/python_tutorial.ipynb). Главное - не забудьте использовать `loss_function='MultiClass'`.\\\n",
    "\\\n",
    "Сначала протестируйте CatBoost на синтетических данных. Выведите точность и важность признаков."
   ]
  },
  {
   "cell_type": "code",
   "execution_count": 218,
   "metadata": {
    "id": "mWBdHNJPXHIV",
    "colab": {
     "base_uri": "https://localhost:8080/"
    },
    "outputId": "5e1be10b-8295-4977-8985-ff35f5154fa3"
   },
   "outputs": [
    {
     "output_type": "stream",
     "name": "stdout",
     "text": [
      "0:\tlearn: 1.0793979\ttotal: 649us\tremaining: 3.25s\n",
      "1000:\tlearn: 0.0027530\ttotal: 876ms\tremaining: 3.5s\n",
      "2000:\tlearn: 0.0012342\ttotal: 1.65s\tremaining: 2.47s\n",
      "3000:\tlearn: 0.0008980\ttotal: 2.44s\tremaining: 1.62s\n",
      "4000:\tlearn: 0.0007048\ttotal: 3.82s\tremaining: 953ms\n",
      "4999:\tlearn: 0.0005796\ttotal: 4.96s\tremaining: 0us\n",
      "Accuracy: 1.0\n",
      "Importance: [5.60552241e-03 6.56860075e-03 2.78576260e+01 2.78160349e+01\n",
      " 4.43106874e+01 3.47751298e-03]\n"
     ]
    }
   ],
   "source": [
    "\n",
    "X, y = synthetic_dataset(1000)\n",
    "\n",
    "clf = CatBoostClassifier( \n",
    "                n_estimators = 5000,\n",
    "                learning_rate= 0.01,\n",
    "                loss_function='MultiClass',\n",
    "                random_seed= 42,\n",
    "                metric_period=1000,\n",
    "                depth= 8)\n",
    "clf.fit(X, y)\n",
    "\n",
    "pred = clf.predict(X).reshape(1, -1)\n",
    "\n",
    "print(\"Accuracy:\", np.mean(pred == y))\n",
    "print(\"Importance:\", clf.get_feature_importance())"
   ]
  },
  {
   "cell_type": "markdown",
   "metadata": {
    "id": "sj8GnxA7XHIW"
   },
   "source": [
    "### Задание 5 (3 балла)\n",
    "Попробуем применить один из используемых на практике алгоритмов. В этом нам поможет CatBoost. Также, как и реализованный ними RandomForest, применим его для определения пола и возраста пользователей сети Вконтакте, выведите названия наиболее важных признаков так же, как в задании 3.\\\n",
    "\\\n",
    "Эксперименты с множеством используемых признаков и подбор гиперпараметров приветствуются."
   ]
  },
  {
   "cell_type": "code",
   "execution_count": 194,
   "metadata": {
    "id": "HtjJ0jc8XHIW"
   },
   "outputs": [],
   "source": [
    "X, y_age, y_sex, features = read_dataset(\"/content/drive/MyDrive/vk.csv\")\n",
    "X_train, X_test, y_age_train, y_age_test, y_sex_train, y_sex_test = train_test_split(X, y_age, y_sex, train_size=0.9)\n",
    "X_train, X_eval, y_age_train, y_age_eval, y_sex_train, y_sex_eval = train_test_split(X_train, y_age_train, y_sex_train, train_size=0.8)"
   ]
  },
  {
   "cell_type": "markdown",
   "metadata": {
    "id": "HxkWgk-VXHIW"
   },
   "source": [
    "#### Возраст"
   ]
  },
  {
   "cell_type": "code",
   "execution_count": 219,
   "metadata": {
    "id": "QNzGCe8kXHIW",
    "colab": {
     "base_uri": "https://localhost:8080/"
    },
    "outputId": "7c03e285-9df4-4686-b46f-e36afb4e07a0"
   },
   "outputs": [
    {
     "output_type": "stream",
     "name": "stdout",
     "text": [
      "0:\tlearn: 1.0945574\ttest: 1.0950794\tbest: 1.0950794 (0)\ttotal: 130ms\tremaining: 10m 49s\n",
      "1000:\tlearn: 0.5532383\ttest: 0.6444955\tbest: 0.6444955 (1000)\ttotal: 1m 27s\tremaining: 5m 49s\n",
      "2000:\tlearn: 0.4497911\ttest: 0.6149536\tbest: 0.6149536 (2000)\ttotal: 2m 50s\tremaining: 4m 16s\n",
      "3000:\tlearn: 0.3865771\ttest: 0.6058500\tbest: 0.6058500 (3000)\ttotal: 4m 14s\tremaining: 2m 49s\n",
      "4000:\tlearn: 0.3396047\ttest: 0.6036602\tbest: 0.6036602 (4000)\ttotal: 5m 37s\tremaining: 1m 24s\n",
      "4999:\tlearn: 0.3033387\ttest: 0.6031478\tbest: 0.6031478 (4999)\ttotal: 6m 59s\tremaining: 0us\n",
      "\n",
      "bestTest = 0.6031478377\n",
      "bestIteration = 4999\n",
      "\n",
      "Accuracy: 0.7364438839848676\n",
      "Most important features:\n",
      "1. mudakoff\n",
      "2. ovsyanochan\n",
      "3. 4ch\n",
      "4. dayvinchik\n",
      "5. styd.pozor\n",
      "6. leprum\n",
      "7. rhymes\n",
      "8. rapnewrap\n",
      "9. kino_mania\n",
      "10. fuck_humor\n"
     ]
    }
   ],
   "source": [
    "clf = CatBoostClassifier(\n",
    "                n_estimators = 5000,\n",
    "                learning_rate= 0.01,\n",
    "                loss_function='MultiClass',\n",
    "                random_seed= 42,\n",
    "                metric_period=1000,\n",
    "                depth= 8)\n",
    "clf.fit(X_train, y_age_train, eval_set=(X_eval, y_age_eval),\n",
    "            cat_features=np.arange(X.shape[1]),\n",
    "            use_best_model=True,\n",
    "            verbose=True)\n",
    "\n",
    "pred = clf.predict(X_test).reshape(1, -1)\n",
    "\n",
    "print(\"Accuracy:\", np.mean(pred == y_age_test))\n",
    "print(\"Most important features:\")\n",
    "for i, name in enumerate(most_important_features(clf.get_feature_importance(), features, 10)):\n",
    "    print(str(i+1) + \".\", name)"
   ]
  },
  {
   "cell_type": "markdown",
   "metadata": {
    "id": "xIssDLRaXHIW"
   },
   "source": [
    "#### Пол"
   ]
  },
  {
   "cell_type": "code",
   "execution_count": 220,
   "metadata": {
    "id": "nWPSbmKqXHIX",
    "colab": {
     "base_uri": "https://localhost:8080/"
    },
    "outputId": "3920befb-940d-49b8-8156-4b5d7dfda0d5"
   },
   "outputs": [
    {
     "output_type": "stream",
     "name": "stdout",
     "text": [
      "0:\tlearn: 0.6903986\ttest: 0.6904889\tbest: 0.6904889 (0)\ttotal: 63.4ms\tremaining: 5m 17s\n",
      "1000:\tlearn: 0.3081333\ttest: 0.3419165\tbest: 0.3419165 (1000)\ttotal: 1m 2s\tremaining: 4m 11s\n",
      "2000:\tlearn: 0.2496829\ttest: 0.3150341\tbest: 0.3150341 (2000)\ttotal: 2m 5s\tremaining: 3m 8s\n",
      "3000:\tlearn: 0.2141910\ttest: 0.3059229\tbest: 0.3059229 (3000)\ttotal: 3m 8s\tremaining: 2m 5s\n",
      "4000:\tlearn: 0.1885220\ttest: 0.3018044\tbest: 0.3018044 (4000)\ttotal: 4m 11s\tremaining: 1m 2s\n",
      "4999:\tlearn: 0.1683847\ttest: 0.3004953\tbest: 0.3004953 (4999)\ttotal: 5m 14s\tremaining: 0us\n",
      "\n",
      "bestTest = 0.3004952582\n",
      "bestIteration = 4999\n",
      "\n",
      "Accuracy: 0.8663303909205549\n",
      "Most important features:\n",
      "1. 40kg\n",
      "2. mudakoff\n",
      "3. girlmeme\n",
      "4. modnailru\n",
      "5. academyofman\n",
      "6. team\n",
      "7. rapnewrap\n",
      "8. i_d_t\n",
      "9. femalemem\n",
      "10. igm\n"
     ]
    }
   ],
   "source": [
    "clf = CatBoostClassifier(\n",
    "                n_estimators = 5000,\n",
    "                learning_rate= 0.01,\n",
    "                loss_function='MultiClass',\n",
    "                random_seed= 42,\n",
    "                metric_period=1000,\n",
    "                depth= 8)\n",
    "\n",
    "clf.fit(X_train, y_sex_train, eval_set=(X_eval, y_sex_eval),\n",
    "            cat_features=np.arange(X.shape[1]),\n",
    "            use_best_model=True,\n",
    "            verbose=True)\n",
    "\n",
    "pred = clf.predict(X_test).reshape(1, -1)\n",
    "\n",
    "print(\"Accuracy:\", np.mean(pred == y_sex_test))\n",
    "print(\"Most important features:\")\n",
    "for i, name in enumerate(most_important_features(clf.get_feature_importance(), features, 10)):\n",
    "    print(str(i+1) + \".\", name)"
   ]
  }
 ],
 "metadata": {
  "kernelspec": {
   "display_name": "Python 3",
   "language": "python",
   "name": "python3"
  },
  "language_info": {
   "codemirror_mode": {
    "name": "ipython",
    "version": 3
   },
   "file_extension": ".py",
   "mimetype": "text/x-python",
   "name": "python",
   "nbconvert_exporter": "python",
   "pygments_lexer": "ipython3",
   "version": "3.7.3"
  },
  "colab": {
   "name": "Копия блокнота \"hw09_task.ipynb\"",
   "provenance": [],
   "collapsed_sections": []
  }
 },
 "nbformat": 4,
 "nbformat_minor": 0
}